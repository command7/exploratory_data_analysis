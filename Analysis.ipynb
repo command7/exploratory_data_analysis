{
 "cells": [
  {
   "cell_type": "markdown",
   "metadata": {},
   "source": [
    "# (Dataset Exploration Title)\n",
    "## by (your name here)\n",
    "\n",
    "## Preliminary Wrangling\n",
    "\n",
    "> Briefly introduce your dataset here."
   ]
  },
  {
   "cell_type": "code",
   "execution_count": 1,
   "metadata": {},
   "outputs": [],
   "source": [
    "# import all packages and set plots to be embedded inline\n",
    "import numpy as np\n",
    "import pandas as pd\n",
    "import matplotlib.pyplot as plt\n",
    "import seaborn as sb\n",
    "\n",
    "%matplotlib inline"
   ]
  },
  {
   "cell_type": "markdown",
   "metadata": {},
   "source": [
    "> Load in your dataset and describe its properties through the questions below.\n",
    "Try and motivate your exploration goals through this section."
   ]
  },
  {
   "cell_type": "raw",
   "metadata": {},
   "source": [
    "data_1987 = pd.read_csv(\"1987.csv\")\n",
    "data_1988 = pd.read_csv(\"1988.csv\")\n",
    "data_1989 = pd.read_csv(\"1989.csv\")\n",
    "data_1990 = pd.read_csv(\"1990.csv\")\n",
    "data_1991 = pd.read_csv(\"1991.csv\")\n",
    "data_1992 = pd.read_csv(\"1992.csv\")\n",
    "data_1993 = pd.read_csv(\"1993.csv\")\n",
    "data_1994 = pd.read_csv(\"1994.csv\")\n",
    "data_1995 = pd.read_csv(\"1995.csv\")\n",
    "data_1996 = pd.read_csv(\"1996.csv\")\n",
    "data_1997 = pd.read_csv(\"1997.csv\")\n",
    "data_1998 = pd.read_csv(\"1998.csv\")\n",
    "data_1999 = pd.read_csv(\"1999.csv\")\n",
    "data_2000 = pd.read_csv(\"2000.csv\")\n",
    "data_2001 = pd.read_csv(\"2001.csv\", encoding=\"cp1252\")\n",
    "data_2002 = pd.read_csv(\"2002.csv\", encoding=\"cp1252\")\n",
    "data_2003 = pd.read_csv(\"2003.csv\")\n",
    "data_2004 = pd.read_csv(\"2004.csv\")\n",
    "data_2005 = pd.read_csv(\"2005.csv\")\n",
    "data_2006 = pd.read_csv(\"2006.csv\")\n",
    "data_2007 = pd.read_csv(\"2007.csv\")\n",
    "data_2008 = pd.read_csv(\"2008.csv\")\n",
    "\n",
    "partial_data = [data_1988, data_1989,data_1990,data_1991,data_1992,data_1993,data_1994,\\\n",
    "                data_1995,data_1996,data_1997,data_1998,data_1999,data_2000,data_2001,data_2002,data_2003,\\\n",
    "               data_2004, data_2005, data_2006, data_2007, data_2008]  \n",
    "\n",
    "flights_data = data_1987.append(partial_data, ignore_index=True)\n",
    "\n",
    "flights_data.to_csv(\"flights_data.csv\")"
   ]
  },
  {
   "cell_type": "markdown",
   "metadata": {},
   "source": [
    "### Convert CancellationCode, Dest, Origin and UniqueCarrier columns to categorical data type to reduce memory foot print."
   ]
  },
  {
   "cell_type": "code",
   "execution_count": null,
   "metadata": {},
   "outputs": [],
   "source": [
    "flights_data = pd.read_csv(\"flights_data.csv\")"
   ]
  },
  {
   "cell_type": "code",
   "execution_count": null,
   "metadata": {},
   "outputs": [],
   "source": [
    "#Make all column names lower case\n",
    "default_cols = list(flights_data.columns)\n",
    "lower_colnames = [name.lower() for name in default_cols]\n",
    "flights_data.columns = lower_colnames"
   ]
  },
  {
   "cell_type": "code",
   "execution_count": null,
   "metadata": {},
   "outputs": [],
   "source": [
    "flights_data.columns"
   ]
  },
  {
   "cell_type": "code",
   "execution_count": null,
   "metadata": {},
   "outputs": [],
   "source": [
    "flights_data[\"cancellationCode\"] = flights_data.cancellationCode.astype('category')\n",
    "flights_data[\"dest\"] = flights_data.dest.astype('category')\n",
    "flights_data[\"origin\"] = flights_data.origin.astype('category')\n",
    "flights_data[\"uniquecarrier\"] = flights_data.UniqueCarrier.astype('category')"
   ]
  },
  {
   "cell_type": "code",
   "execution_count": null,
   "metadata": {},
   "outputs": [],
   "source": [
    "flights_data[\"date\"] = flights_data.apply(lambda row: str(row.month) + str(row.dayofmonth) + str(row.year), axis=1)\n",
    "flights_data[\"date\"] = pd.to_datetime(flights_data[\"date\"], format=\"%m%d%Y\")\n",
    "# temp = flights_data.iloc[0:5,2:]\n",
    "# temp[\"date\"] = temp.apply(lambda row: str(row.month) + str(row.dayofmonth) + str(row.year), axis = 1)\n",
    "# temp[\"date\"] = pd.to_datetime(temp[\"date\"], format=\"%m%d%Y\")\n",
    "# temp.date"
   ]
  },
  {
   "cell_type": "code",
   "execution_count": null,
   "metadata": {},
   "outputs": [],
   "source": [
    "flights_data.dtypes()"
   ]
  },
  {
   "cell_type": "code",
   "execution_count": null,
   "metadata": {},
   "outputs": [],
   "source": [
    "#Converting to date time dtyps\n",
    "def convert_to_datetime(data):\n",
    "    if np.isnan(data):\n",
    "        return data\n",
    "    else:\n",
    "        replaced_string = str(data).replace(\".0\", \"\")\n",
    "        if(len(replaced_string) < 4):\n",
    "            return replaced_string.zfill(4)\n",
    "        else:\n",
    "            if replaced_string == \"2400\":\n",
    "                return \"0000\"\n",
    "            else:\n",
    "                return replaced_string\n"
   ]
  },
  {
   "cell_type": "code",
   "execution_count": null,
   "metadata": {},
   "outputs": [],
   "source": [
    "flights_data[\"dep_time\"] = flights_data.deptime.apply(convert_to_datetime)\n",
    "flights_data[\"dep_time\"] = pd.to_datetime(flights_data[\"dep_time\"], format=\"%H%M\")\n",
    "flights_data.dep_time.dtypes"
   ]
  },
  {
   "cell_type": "code",
   "execution_count": null,
   "metadata": {},
   "outputs": [],
   "source": [
    "flights_data.dep_time.dtypes"
   ]
  },
  {
   "cell_type": "code",
   "execution_count": null,
   "metadata": {},
   "outputs": [],
   "source": [
    "temp_data = flights_data[\"deptime\"][:10]\n",
    "print(temp_data)\n",
    "temp_data = temp_data.apply(convert_to_datetime)\n",
    "temp_data = pd.to_datetime(temp_data, format=\"%H%M\")\n",
    "print(temp_data)"
   ]
  },
  {
   "cell_type": "code",
   "execution_count": null,
   "metadata": {},
   "outputs": [],
   "source": [
    "#flights_data[\"DepTime\"] = flights_data.DepTime.astype(str).str.pad(width=6, side=\"left\", fillchar=\"0\")\n",
    "# pd.to_datetime(flights_data[\"DepTime\"].astype(str), format=\"%H%M.0\")\n",
    "flights_data.info(null_counts=True, memory_usage=True)"
   ]
  },
  {
   "cell_type": "code",
   "execution_count": null,
   "metadata": {},
   "outputs": [],
   "source": [
    "flights_data.dtypes"
   ]
  },
  {
   "cell_type": "markdown",
   "metadata": {},
   "source": [
    "### What is the structure of your dataset?\n",
    "\n",
    "> Your answer here!\n",
    "\n",
    "### What is/are the main feature(s) of interest in your dataset?\n",
    "\n",
    "> Your answer here!\n",
    "\n",
    "### What features in the dataset do you think will help support your investigation into your feature(s) of interest?\n",
    "\n",
    "> Your answer here!"
   ]
  },
  {
   "cell_type": "markdown",
   "metadata": {},
   "source": [
    "## Univariate Exploration\n",
    "\n",
    "> In this section, investigate distributions of individual variables. If\n",
    "you see unusual points or outliers, take a deeper look to clean things up\n",
    "and prepare yourself to look at relationships between variables."
   ]
  },
  {
   "cell_type": "code",
   "execution_count": null,
   "metadata": {},
   "outputs": [],
   "source": [
    "plt.figure(figsize=(12,6))\n",
    "plt.subplot(1,2,1)\n",
    "sb.countplot(data=flights_data,x=\"year\", color=sb.color_palette()[0])\n",
    "plt.xticks(rotation=90)\n",
    "plt.xlabel(\"y\\Year\")\n",
    "plt.ylabel(\"Number of flights\")\n",
    "plt.subplot(1,2,2)\n",
    "sb.countplot(data=flights_data, x=\"month\", color=sb.color_palette()[0])\n",
    "y_ticks = [10, 100, 1000, 10000, 100000]\n",
    "plt.yticks(y_ticks, y_ticks)\n",
    "months_labels = [\"Jan\", \"Feb\", \"Mar\", \"Apr\", \"May\", \"Jun\", \"Jul\", \"Aug\", \"Sep\", \"Oct\", \"Nov\", \"Dec\"]\n",
    "months_ticks = np.arange(0, 13, 1)\n",
    "plt.xticks(months_ticks, months_labels)\n",
    "plt.xlabel(\"Months\")\n",
    "plt.ylabel(\"Number of flights\")\n",
    "plt.yscale(\"log\")\n"
   ]
  },
  {
   "cell_type": "markdown",
   "metadata": {},
   "source": [
    "Number of flights are increasing by each year. In the year 1987, there seems to be a very small number of flights comparitively. This needs to looked into much deeper\n",
    "\n",
    "There seems to be very few flights in Februaries that needs to be looked into further. Other than There seems to be a large number of flights in December, October and August."
   ]
  },
  {
   "cell_type": "code",
   "execution_count": null,
   "metadata": {},
   "outputs": [],
   "source": [
    "plt.figure(figsize=(12,7))\n",
    "flights_data[[\"arrdelay\", \"depdelay\"]].hist()\n"
   ]
  },
  {
   "cell_type": "code",
   "execution_count": null,
   "metadata": {},
   "outputs": [],
   "source": [
    "flights_data.boxplot(column=[\"arrdelay\", \"depdelay\"])"
   ]
  },
  {
   "cell_type": "markdown",
   "metadata": {},
   "source": [
    "There appear to be a lot of outliers in arrival and departure delays"
   ]
  },
  {
   "cell_type": "code",
   "execution_count": null,
   "metadata": {},
   "outputs": [],
   "source": [
    "# cancelled_flights = flights_data.query(\"Cancelled == 0\")[\"CancellationCode\"]\n",
    "sb.countplot(data=flights_data, x=\"cancelled\")\n",
    "plt.yscale(\"log\")\n",
    "plt.xticks([0,1], [\"Not Cancelled\", \"Cancelled\"])\n",
    "plt.xlabel(\"\")\n",
    "plt.ylabel(\"Number of flights\")"
   ]
  },
  {
   "cell_type": "code",
   "execution_count": null,
   "metadata": {},
   "outputs": [],
   "source": [
    "\n",
    "cancel_order = flights_data.CancellationCode.value_counts().index\n",
    "sb.countplot(data=flights_data, x=\"cancellationcode\", order=cancel_order, color=sb.color_palette()[0])\n",
    "cancelCode_xticks = np.arange(0,4,1)\n",
    "cancelCode_xticklabels = [\"Carrier\", \"Weather\", \"NAS\", \"Security\"]\n",
    "plt.xticks(cancelCode_xticks, cancelCode_xticklabels)\n",
    "plt.xlabel(\"Cause of cancellation\")\n",
    "plt.ylabel(\"Number of flights\")"
   ]
  },
  {
   "cell_type": "markdown",
   "metadata": {},
   "source": [
    "It seems like a large number of the flights were cancelled due to carrier and weather wherase only a very few was cancelled due to security issues."
   ]
  },
  {
   "cell_type": "markdown",
   "metadata": {},
   "source": [
    "### Discuss the distribution(s) of your variable(s) of interest. Were there any unusual points? Did you need to perform any transformations?\n",
    "\n",
    "> Your answer here!\n",
    "\n",
    "### Of the features you investigated, were there any unusual distributions? Did you perform any operations on the data to tidy, adjust, or change the form of the data? If so, why did you do this?\n",
    "\n",
    "> Your answer here!"
   ]
  },
  {
   "cell_type": "markdown",
   "metadata": {},
   "source": [
    "## Bivariate Exploration\n",
    "\n",
    "> In this section, investigate relationships between pairs of variables in your\n",
    "data. Make sure the variables that you cover here have been introduced in some\n",
    "fashion in the previous section (univariate exploration)."
   ]
  },
  {
   "cell_type": "code",
   "execution_count": null,
   "metadata": {},
   "outputs": [],
   "source": []
  },
  {
   "cell_type": "markdown",
   "metadata": {},
   "source": [
    "### Talk about some of the relationships you observed in this part of the investigation. How did the feature(s) of interest vary with other features in the dataset?\n",
    "\n",
    "> Your answer here!\n",
    "\n",
    "### Did you observe any interesting relationships between the other features (not the main feature(s) of interest)?\n",
    "\n",
    "> Your answer here!"
   ]
  },
  {
   "cell_type": "markdown",
   "metadata": {},
   "source": [
    "## Multivariate Exploration\n",
    "\n",
    "> Create plots of three or more variables to investigate your data even\n",
    "further. Make sure that your investigations are justified, and follow from\n",
    "your work in the previous sections."
   ]
  },
  {
   "cell_type": "code",
   "execution_count": null,
   "metadata": {},
   "outputs": [],
   "source": []
  },
  {
   "cell_type": "markdown",
   "metadata": {},
   "source": [
    "### Talk about some of the relationships you observed in this part of the investigation. Were there features that strengthened each other in terms of looking at your feature(s) of interest?\n",
    "\n",
    "> Your answer here!\n",
    "\n",
    "### Were there any interesting or surprising interactions between features?\n",
    "\n",
    "> Your answer here!"
   ]
  },
  {
   "cell_type": "markdown",
   "metadata": {},
   "source": [
    "> At the end of your report, make sure that you export the notebook as an\n",
    "html file from the `File > Download as... > HTML` menu. Make sure you keep\n",
    "track of where the exported file goes, so you can put it in the same folder\n",
    "as this notebook for project submission. Also, make sure you remove all of\n",
    "the quote-formatted guide notes like this one before you finish your report!"
   ]
  },
  {
   "cell_type": "code",
   "execution_count": null,
   "metadata": {},
   "outputs": [],
   "source": []
  }
 ],
 "metadata": {
  "kernelspec": {
   "display_name": "Python 3",
   "language": "python",
   "name": "python3"
  },
  "language_info": {
   "codemirror_mode": {
    "name": "ipython",
    "version": 3
   },
   "file_extension": ".py",
   "mimetype": "text/x-python",
   "name": "python",
   "nbconvert_exporter": "python",
   "pygments_lexer": "ipython3",
   "version": "3.6.7"
  }
 },
 "nbformat": 4,
 "nbformat_minor": 2
}
