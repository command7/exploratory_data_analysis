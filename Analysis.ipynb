{
 "cells": [
  {
   "cell_type": "markdown",
   "metadata": {},
   "source": [
    "# Flight Delays\n",
    "## by Vijay Raj Saravanan\n",
    "\n",
    "The data set contains information about flights timings of year 2008. Information includes estimate arrival and departure times, actual arrival times and departure times, estimated and actual elapsed times, cancellation reasons and taxi time. The target feature of this dataset is the number of minutes delayed in arrival."
   ]
  },
  {
   "cell_type": "code",
   "execution_count": 1,
   "metadata": {},
   "outputs": [],
   "source": [
    "# import all packages and set plots to be embedded inline\n",
    "import numpy as np\n",
    "import pandas as pd\n",
    "import matplotlib.pyplot as plt\n",
    "import seaborn as sb\n",
    "\n",
    "%matplotlib inline"
   ]
  },
  {
   "cell_type": "markdown",
   "metadata": {},
   "source": [
    "## Load data set "
   ]
  },
  {
   "cell_type": "code",
   "execution_count": 2,
   "metadata": {},
   "outputs": [],
   "source": [
    "flights_data = pd.read_csv(\"2008.csv\")"
   ]
  },
  {
   "cell_type": "markdown",
   "metadata": {},
   "source": [
    "## Explore data set"
   ]
  },
  {
   "cell_type": "code",
   "execution_count": 3,
   "metadata": {},
   "outputs": [
    {
     "data": {
      "text/html": [
       "<div>\n",
       "<style scoped>\n",
       "    .dataframe tbody tr th:only-of-type {\n",
       "        vertical-align: middle;\n",
       "    }\n",
       "\n",
       "    .dataframe tbody tr th {\n",
       "        vertical-align: top;\n",
       "    }\n",
       "\n",
       "    .dataframe thead th {\n",
       "        text-align: right;\n",
       "    }\n",
       "</style>\n",
       "<table border=\"1\" class=\"dataframe\">\n",
       "  <thead>\n",
       "    <tr style=\"text-align: right;\">\n",
       "      <th></th>\n",
       "      <th>Year</th>\n",
       "      <th>Month</th>\n",
       "      <th>DayofMonth</th>\n",
       "      <th>DayOfWeek</th>\n",
       "      <th>DepTime</th>\n",
       "      <th>CRSDepTime</th>\n",
       "      <th>ArrTime</th>\n",
       "      <th>CRSArrTime</th>\n",
       "      <th>UniqueCarrier</th>\n",
       "      <th>FlightNum</th>\n",
       "      <th>...</th>\n",
       "      <th>TaxiIn</th>\n",
       "      <th>TaxiOut</th>\n",
       "      <th>Cancelled</th>\n",
       "      <th>CancellationCode</th>\n",
       "      <th>Diverted</th>\n",
       "      <th>CarrierDelay</th>\n",
       "      <th>WeatherDelay</th>\n",
       "      <th>NASDelay</th>\n",
       "      <th>SecurityDelay</th>\n",
       "      <th>LateAircraftDelay</th>\n",
       "    </tr>\n",
       "  </thead>\n",
       "  <tbody>\n",
       "    <tr>\n",
       "      <th>0</th>\n",
       "      <td>2008</td>\n",
       "      <td>1</td>\n",
       "      <td>3</td>\n",
       "      <td>4</td>\n",
       "      <td>2003.0</td>\n",
       "      <td>1955</td>\n",
       "      <td>2211.0</td>\n",
       "      <td>2225</td>\n",
       "      <td>WN</td>\n",
       "      <td>335</td>\n",
       "      <td>...</td>\n",
       "      <td>4.0</td>\n",
       "      <td>8.0</td>\n",
       "      <td>0</td>\n",
       "      <td>NaN</td>\n",
       "      <td>0</td>\n",
       "      <td>NaN</td>\n",
       "      <td>NaN</td>\n",
       "      <td>NaN</td>\n",
       "      <td>NaN</td>\n",
       "      <td>NaN</td>\n",
       "    </tr>\n",
       "    <tr>\n",
       "      <th>1</th>\n",
       "      <td>2008</td>\n",
       "      <td>1</td>\n",
       "      <td>3</td>\n",
       "      <td>4</td>\n",
       "      <td>754.0</td>\n",
       "      <td>735</td>\n",
       "      <td>1002.0</td>\n",
       "      <td>1000</td>\n",
       "      <td>WN</td>\n",
       "      <td>3231</td>\n",
       "      <td>...</td>\n",
       "      <td>5.0</td>\n",
       "      <td>10.0</td>\n",
       "      <td>0</td>\n",
       "      <td>NaN</td>\n",
       "      <td>0</td>\n",
       "      <td>NaN</td>\n",
       "      <td>NaN</td>\n",
       "      <td>NaN</td>\n",
       "      <td>NaN</td>\n",
       "      <td>NaN</td>\n",
       "    </tr>\n",
       "    <tr>\n",
       "      <th>2</th>\n",
       "      <td>2008</td>\n",
       "      <td>1</td>\n",
       "      <td>3</td>\n",
       "      <td>4</td>\n",
       "      <td>628.0</td>\n",
       "      <td>620</td>\n",
       "      <td>804.0</td>\n",
       "      <td>750</td>\n",
       "      <td>WN</td>\n",
       "      <td>448</td>\n",
       "      <td>...</td>\n",
       "      <td>3.0</td>\n",
       "      <td>17.0</td>\n",
       "      <td>0</td>\n",
       "      <td>NaN</td>\n",
       "      <td>0</td>\n",
       "      <td>NaN</td>\n",
       "      <td>NaN</td>\n",
       "      <td>NaN</td>\n",
       "      <td>NaN</td>\n",
       "      <td>NaN</td>\n",
       "    </tr>\n",
       "    <tr>\n",
       "      <th>3</th>\n",
       "      <td>2008</td>\n",
       "      <td>1</td>\n",
       "      <td>3</td>\n",
       "      <td>4</td>\n",
       "      <td>926.0</td>\n",
       "      <td>930</td>\n",
       "      <td>1054.0</td>\n",
       "      <td>1100</td>\n",
       "      <td>WN</td>\n",
       "      <td>1746</td>\n",
       "      <td>...</td>\n",
       "      <td>3.0</td>\n",
       "      <td>7.0</td>\n",
       "      <td>0</td>\n",
       "      <td>NaN</td>\n",
       "      <td>0</td>\n",
       "      <td>NaN</td>\n",
       "      <td>NaN</td>\n",
       "      <td>NaN</td>\n",
       "      <td>NaN</td>\n",
       "      <td>NaN</td>\n",
       "    </tr>\n",
       "    <tr>\n",
       "      <th>4</th>\n",
       "      <td>2008</td>\n",
       "      <td>1</td>\n",
       "      <td>3</td>\n",
       "      <td>4</td>\n",
       "      <td>1829.0</td>\n",
       "      <td>1755</td>\n",
       "      <td>1959.0</td>\n",
       "      <td>1925</td>\n",
       "      <td>WN</td>\n",
       "      <td>3920</td>\n",
       "      <td>...</td>\n",
       "      <td>3.0</td>\n",
       "      <td>10.0</td>\n",
       "      <td>0</td>\n",
       "      <td>NaN</td>\n",
       "      <td>0</td>\n",
       "      <td>2.0</td>\n",
       "      <td>0.0</td>\n",
       "      <td>0.0</td>\n",
       "      <td>0.0</td>\n",
       "      <td>32.0</td>\n",
       "    </tr>\n",
       "    <tr>\n",
       "      <th>5</th>\n",
       "      <td>2008</td>\n",
       "      <td>1</td>\n",
       "      <td>3</td>\n",
       "      <td>4</td>\n",
       "      <td>1940.0</td>\n",
       "      <td>1915</td>\n",
       "      <td>2121.0</td>\n",
       "      <td>2110</td>\n",
       "      <td>WN</td>\n",
       "      <td>378</td>\n",
       "      <td>...</td>\n",
       "      <td>4.0</td>\n",
       "      <td>10.0</td>\n",
       "      <td>0</td>\n",
       "      <td>NaN</td>\n",
       "      <td>0</td>\n",
       "      <td>NaN</td>\n",
       "      <td>NaN</td>\n",
       "      <td>NaN</td>\n",
       "      <td>NaN</td>\n",
       "      <td>NaN</td>\n",
       "    </tr>\n",
       "    <tr>\n",
       "      <th>6</th>\n",
       "      <td>2008</td>\n",
       "      <td>1</td>\n",
       "      <td>3</td>\n",
       "      <td>4</td>\n",
       "      <td>1937.0</td>\n",
       "      <td>1830</td>\n",
       "      <td>2037.0</td>\n",
       "      <td>1940</td>\n",
       "      <td>WN</td>\n",
       "      <td>509</td>\n",
       "      <td>...</td>\n",
       "      <td>3.0</td>\n",
       "      <td>7.0</td>\n",
       "      <td>0</td>\n",
       "      <td>NaN</td>\n",
       "      <td>0</td>\n",
       "      <td>10.0</td>\n",
       "      <td>0.0</td>\n",
       "      <td>0.0</td>\n",
       "      <td>0.0</td>\n",
       "      <td>47.0</td>\n",
       "    </tr>\n",
       "    <tr>\n",
       "      <th>7</th>\n",
       "      <td>2008</td>\n",
       "      <td>1</td>\n",
       "      <td>3</td>\n",
       "      <td>4</td>\n",
       "      <td>1039.0</td>\n",
       "      <td>1040</td>\n",
       "      <td>1132.0</td>\n",
       "      <td>1150</td>\n",
       "      <td>WN</td>\n",
       "      <td>535</td>\n",
       "      <td>...</td>\n",
       "      <td>7.0</td>\n",
       "      <td>7.0</td>\n",
       "      <td>0</td>\n",
       "      <td>NaN</td>\n",
       "      <td>0</td>\n",
       "      <td>NaN</td>\n",
       "      <td>NaN</td>\n",
       "      <td>NaN</td>\n",
       "      <td>NaN</td>\n",
       "      <td>NaN</td>\n",
       "    </tr>\n",
       "    <tr>\n",
       "      <th>8</th>\n",
       "      <td>2008</td>\n",
       "      <td>1</td>\n",
       "      <td>3</td>\n",
       "      <td>4</td>\n",
       "      <td>617.0</td>\n",
       "      <td>615</td>\n",
       "      <td>652.0</td>\n",
       "      <td>650</td>\n",
       "      <td>WN</td>\n",
       "      <td>11</td>\n",
       "      <td>...</td>\n",
       "      <td>6.0</td>\n",
       "      <td>19.0</td>\n",
       "      <td>0</td>\n",
       "      <td>NaN</td>\n",
       "      <td>0</td>\n",
       "      <td>NaN</td>\n",
       "      <td>NaN</td>\n",
       "      <td>NaN</td>\n",
       "      <td>NaN</td>\n",
       "      <td>NaN</td>\n",
       "    </tr>\n",
       "    <tr>\n",
       "      <th>9</th>\n",
       "      <td>2008</td>\n",
       "      <td>1</td>\n",
       "      <td>3</td>\n",
       "      <td>4</td>\n",
       "      <td>1620.0</td>\n",
       "      <td>1620</td>\n",
       "      <td>1639.0</td>\n",
       "      <td>1655</td>\n",
       "      <td>WN</td>\n",
       "      <td>810</td>\n",
       "      <td>...</td>\n",
       "      <td>3.0</td>\n",
       "      <td>6.0</td>\n",
       "      <td>0</td>\n",
       "      <td>NaN</td>\n",
       "      <td>0</td>\n",
       "      <td>NaN</td>\n",
       "      <td>NaN</td>\n",
       "      <td>NaN</td>\n",
       "      <td>NaN</td>\n",
       "      <td>NaN</td>\n",
       "    </tr>\n",
       "  </tbody>\n",
       "</table>\n",
       "<p>10 rows × 29 columns</p>\n",
       "</div>"
      ],
      "text/plain": [
       "   Year  Month  DayofMonth  DayOfWeek  DepTime  CRSDepTime  ArrTime  \\\n",
       "0  2008      1           3          4   2003.0        1955   2211.0   \n",
       "1  2008      1           3          4    754.0         735   1002.0   \n",
       "2  2008      1           3          4    628.0         620    804.0   \n",
       "3  2008      1           3          4    926.0         930   1054.0   \n",
       "4  2008      1           3          4   1829.0        1755   1959.0   \n",
       "5  2008      1           3          4   1940.0        1915   2121.0   \n",
       "6  2008      1           3          4   1937.0        1830   2037.0   \n",
       "7  2008      1           3          4   1039.0        1040   1132.0   \n",
       "8  2008      1           3          4    617.0         615    652.0   \n",
       "9  2008      1           3          4   1620.0        1620   1639.0   \n",
       "\n",
       "   CRSArrTime UniqueCarrier  FlightNum  ... TaxiIn  TaxiOut  Cancelled  \\\n",
       "0        2225            WN        335  ...    4.0      8.0          0   \n",
       "1        1000            WN       3231  ...    5.0     10.0          0   \n",
       "2         750            WN        448  ...    3.0     17.0          0   \n",
       "3        1100            WN       1746  ...    3.0      7.0          0   \n",
       "4        1925            WN       3920  ...    3.0     10.0          0   \n",
       "5        2110            WN        378  ...    4.0     10.0          0   \n",
       "6        1940            WN        509  ...    3.0      7.0          0   \n",
       "7        1150            WN        535  ...    7.0      7.0          0   \n",
       "8         650            WN         11  ...    6.0     19.0          0   \n",
       "9        1655            WN        810  ...    3.0      6.0          0   \n",
       "\n",
       "   CancellationCode  Diverted  CarrierDelay WeatherDelay NASDelay  \\\n",
       "0               NaN         0           NaN          NaN      NaN   \n",
       "1               NaN         0           NaN          NaN      NaN   \n",
       "2               NaN         0           NaN          NaN      NaN   \n",
       "3               NaN         0           NaN          NaN      NaN   \n",
       "4               NaN         0           2.0          0.0      0.0   \n",
       "5               NaN         0           NaN          NaN      NaN   \n",
       "6               NaN         0          10.0          0.0      0.0   \n",
       "7               NaN         0           NaN          NaN      NaN   \n",
       "8               NaN         0           NaN          NaN      NaN   \n",
       "9               NaN         0           NaN          NaN      NaN   \n",
       "\n",
       "   SecurityDelay  LateAircraftDelay  \n",
       "0            NaN                NaN  \n",
       "1            NaN                NaN  \n",
       "2            NaN                NaN  \n",
       "3            NaN                NaN  \n",
       "4            0.0               32.0  \n",
       "5            NaN                NaN  \n",
       "6            0.0               47.0  \n",
       "7            NaN                NaN  \n",
       "8            NaN                NaN  \n",
       "9            NaN                NaN  \n",
       "\n",
       "[10 rows x 29 columns]"
      ]
     },
     "execution_count": 3,
     "metadata": {},
     "output_type": "execute_result"
    }
   ],
   "source": [
    "flights_data.head(10)"
   ]
  },
  {
   "cell_type": "code",
   "execution_count": 4,
   "metadata": {},
   "outputs": [
    {
     "data": {
      "text/html": [
       "<div>\n",
       "<style scoped>\n",
       "    .dataframe tbody tr th:only-of-type {\n",
       "        vertical-align: middle;\n",
       "    }\n",
       "\n",
       "    .dataframe tbody tr th {\n",
       "        vertical-align: top;\n",
       "    }\n",
       "\n",
       "    .dataframe thead th {\n",
       "        text-align: right;\n",
       "    }\n",
       "</style>\n",
       "<table border=\"1\" class=\"dataframe\">\n",
       "  <thead>\n",
       "    <tr style=\"text-align: right;\">\n",
       "      <th></th>\n",
       "      <th>Year</th>\n",
       "      <th>Month</th>\n",
       "      <th>DayofMonth</th>\n",
       "      <th>DayOfWeek</th>\n",
       "      <th>DepTime</th>\n",
       "      <th>CRSDepTime</th>\n",
       "      <th>ArrTime</th>\n",
       "      <th>CRSArrTime</th>\n",
       "      <th>UniqueCarrier</th>\n",
       "      <th>FlightNum</th>\n",
       "      <th>...</th>\n",
       "      <th>TaxiIn</th>\n",
       "      <th>TaxiOut</th>\n",
       "      <th>Cancelled</th>\n",
       "      <th>CancellationCode</th>\n",
       "      <th>Diverted</th>\n",
       "      <th>CarrierDelay</th>\n",
       "      <th>WeatherDelay</th>\n",
       "      <th>NASDelay</th>\n",
       "      <th>SecurityDelay</th>\n",
       "      <th>LateAircraftDelay</th>\n",
       "    </tr>\n",
       "  </thead>\n",
       "  <tbody>\n",
       "    <tr>\n",
       "      <th>7009718</th>\n",
       "      <td>2008</td>\n",
       "      <td>12</td>\n",
       "      <td>13</td>\n",
       "      <td>6</td>\n",
       "      <td>1007.0</td>\n",
       "      <td>847</td>\n",
       "      <td>1149.0</td>\n",
       "      <td>1010</td>\n",
       "      <td>DL</td>\n",
       "      <td>1631</td>\n",
       "      <td>...</td>\n",
       "      <td>8.0</td>\n",
       "      <td>32.0</td>\n",
       "      <td>0</td>\n",
       "      <td>NaN</td>\n",
       "      <td>0</td>\n",
       "      <td>1.0</td>\n",
       "      <td>0.0</td>\n",
       "      <td>19.0</td>\n",
       "      <td>0.0</td>\n",
       "      <td>79.0</td>\n",
       "    </tr>\n",
       "    <tr>\n",
       "      <th>7009719</th>\n",
       "      <td>2008</td>\n",
       "      <td>12</td>\n",
       "      <td>13</td>\n",
       "      <td>6</td>\n",
       "      <td>638.0</td>\n",
       "      <td>640</td>\n",
       "      <td>808.0</td>\n",
       "      <td>753</td>\n",
       "      <td>DL</td>\n",
       "      <td>1632</td>\n",
       "      <td>...</td>\n",
       "      <td>14.0</td>\n",
       "      <td>26.0</td>\n",
       "      <td>0</td>\n",
       "      <td>NaN</td>\n",
       "      <td>0</td>\n",
       "      <td>0.0</td>\n",
       "      <td>0.0</td>\n",
       "      <td>15.0</td>\n",
       "      <td>0.0</td>\n",
       "      <td>0.0</td>\n",
       "    </tr>\n",
       "    <tr>\n",
       "      <th>7009720</th>\n",
       "      <td>2008</td>\n",
       "      <td>12</td>\n",
       "      <td>13</td>\n",
       "      <td>6</td>\n",
       "      <td>756.0</td>\n",
       "      <td>800</td>\n",
       "      <td>1032.0</td>\n",
       "      <td>1026</td>\n",
       "      <td>DL</td>\n",
       "      <td>1633</td>\n",
       "      <td>...</td>\n",
       "      <td>23.0</td>\n",
       "      <td>17.0</td>\n",
       "      <td>0</td>\n",
       "      <td>NaN</td>\n",
       "      <td>0</td>\n",
       "      <td>NaN</td>\n",
       "      <td>NaN</td>\n",
       "      <td>NaN</td>\n",
       "      <td>NaN</td>\n",
       "      <td>NaN</td>\n",
       "    </tr>\n",
       "    <tr>\n",
       "      <th>7009721</th>\n",
       "      <td>2008</td>\n",
       "      <td>12</td>\n",
       "      <td>13</td>\n",
       "      <td>6</td>\n",
       "      <td>612.0</td>\n",
       "      <td>615</td>\n",
       "      <td>923.0</td>\n",
       "      <td>907</td>\n",
       "      <td>DL</td>\n",
       "      <td>1635</td>\n",
       "      <td>...</td>\n",
       "      <td>5.0</td>\n",
       "      <td>23.0</td>\n",
       "      <td>0</td>\n",
       "      <td>NaN</td>\n",
       "      <td>0</td>\n",
       "      <td>0.0</td>\n",
       "      <td>0.0</td>\n",
       "      <td>16.0</td>\n",
       "      <td>0.0</td>\n",
       "      <td>0.0</td>\n",
       "    </tr>\n",
       "    <tr>\n",
       "      <th>7009722</th>\n",
       "      <td>2008</td>\n",
       "      <td>12</td>\n",
       "      <td>13</td>\n",
       "      <td>6</td>\n",
       "      <td>749.0</td>\n",
       "      <td>750</td>\n",
       "      <td>901.0</td>\n",
       "      <td>859</td>\n",
       "      <td>DL</td>\n",
       "      <td>1636</td>\n",
       "      <td>...</td>\n",
       "      <td>20.0</td>\n",
       "      <td>11.0</td>\n",
       "      <td>0</td>\n",
       "      <td>NaN</td>\n",
       "      <td>0</td>\n",
       "      <td>NaN</td>\n",
       "      <td>NaN</td>\n",
       "      <td>NaN</td>\n",
       "      <td>NaN</td>\n",
       "      <td>NaN</td>\n",
       "    </tr>\n",
       "    <tr>\n",
       "      <th>7009723</th>\n",
       "      <td>2008</td>\n",
       "      <td>12</td>\n",
       "      <td>13</td>\n",
       "      <td>6</td>\n",
       "      <td>1002.0</td>\n",
       "      <td>959</td>\n",
       "      <td>1204.0</td>\n",
       "      <td>1150</td>\n",
       "      <td>DL</td>\n",
       "      <td>1636</td>\n",
       "      <td>...</td>\n",
       "      <td>6.0</td>\n",
       "      <td>45.0</td>\n",
       "      <td>0</td>\n",
       "      <td>NaN</td>\n",
       "      <td>0</td>\n",
       "      <td>NaN</td>\n",
       "      <td>NaN</td>\n",
       "      <td>NaN</td>\n",
       "      <td>NaN</td>\n",
       "      <td>NaN</td>\n",
       "    </tr>\n",
       "    <tr>\n",
       "      <th>7009724</th>\n",
       "      <td>2008</td>\n",
       "      <td>12</td>\n",
       "      <td>13</td>\n",
       "      <td>6</td>\n",
       "      <td>834.0</td>\n",
       "      <td>835</td>\n",
       "      <td>1021.0</td>\n",
       "      <td>1023</td>\n",
       "      <td>DL</td>\n",
       "      <td>1637</td>\n",
       "      <td>...</td>\n",
       "      <td>5.0</td>\n",
       "      <td>23.0</td>\n",
       "      <td>0</td>\n",
       "      <td>NaN</td>\n",
       "      <td>0</td>\n",
       "      <td>NaN</td>\n",
       "      <td>NaN</td>\n",
       "      <td>NaN</td>\n",
       "      <td>NaN</td>\n",
       "      <td>NaN</td>\n",
       "    </tr>\n",
       "    <tr>\n",
       "      <th>7009725</th>\n",
       "      <td>2008</td>\n",
       "      <td>12</td>\n",
       "      <td>13</td>\n",
       "      <td>6</td>\n",
       "      <td>655.0</td>\n",
       "      <td>700</td>\n",
       "      <td>856.0</td>\n",
       "      <td>856</td>\n",
       "      <td>DL</td>\n",
       "      <td>1638</td>\n",
       "      <td>...</td>\n",
       "      <td>24.0</td>\n",
       "      <td>12.0</td>\n",
       "      <td>0</td>\n",
       "      <td>NaN</td>\n",
       "      <td>0</td>\n",
       "      <td>NaN</td>\n",
       "      <td>NaN</td>\n",
       "      <td>NaN</td>\n",
       "      <td>NaN</td>\n",
       "      <td>NaN</td>\n",
       "    </tr>\n",
       "    <tr>\n",
       "      <th>7009726</th>\n",
       "      <td>2008</td>\n",
       "      <td>12</td>\n",
       "      <td>13</td>\n",
       "      <td>6</td>\n",
       "      <td>1251.0</td>\n",
       "      <td>1240</td>\n",
       "      <td>1446.0</td>\n",
       "      <td>1437</td>\n",
       "      <td>DL</td>\n",
       "      <td>1639</td>\n",
       "      <td>...</td>\n",
       "      <td>13.0</td>\n",
       "      <td>13.0</td>\n",
       "      <td>0</td>\n",
       "      <td>NaN</td>\n",
       "      <td>0</td>\n",
       "      <td>NaN</td>\n",
       "      <td>NaN</td>\n",
       "      <td>NaN</td>\n",
       "      <td>NaN</td>\n",
       "      <td>NaN</td>\n",
       "    </tr>\n",
       "    <tr>\n",
       "      <th>7009727</th>\n",
       "      <td>2008</td>\n",
       "      <td>12</td>\n",
       "      <td>13</td>\n",
       "      <td>6</td>\n",
       "      <td>1110.0</td>\n",
       "      <td>1103</td>\n",
       "      <td>1413.0</td>\n",
       "      <td>1418</td>\n",
       "      <td>DL</td>\n",
       "      <td>1641</td>\n",
       "      <td>...</td>\n",
       "      <td>8.0</td>\n",
       "      <td>11.0</td>\n",
       "      <td>0</td>\n",
       "      <td>NaN</td>\n",
       "      <td>0</td>\n",
       "      <td>NaN</td>\n",
       "      <td>NaN</td>\n",
       "      <td>NaN</td>\n",
       "      <td>NaN</td>\n",
       "      <td>NaN</td>\n",
       "    </tr>\n",
       "  </tbody>\n",
       "</table>\n",
       "<p>10 rows × 29 columns</p>\n",
       "</div>"
      ],
      "text/plain": [
       "         Year  Month  DayofMonth  DayOfWeek  DepTime  CRSDepTime  ArrTime  \\\n",
       "7009718  2008     12          13          6   1007.0         847   1149.0   \n",
       "7009719  2008     12          13          6    638.0         640    808.0   \n",
       "7009720  2008     12          13          6    756.0         800   1032.0   \n",
       "7009721  2008     12          13          6    612.0         615    923.0   \n",
       "7009722  2008     12          13          6    749.0         750    901.0   \n",
       "7009723  2008     12          13          6   1002.0         959   1204.0   \n",
       "7009724  2008     12          13          6    834.0         835   1021.0   \n",
       "7009725  2008     12          13          6    655.0         700    856.0   \n",
       "7009726  2008     12          13          6   1251.0        1240   1446.0   \n",
       "7009727  2008     12          13          6   1110.0        1103   1413.0   \n",
       "\n",
       "         CRSArrTime UniqueCarrier  FlightNum  ... TaxiIn  TaxiOut  Cancelled  \\\n",
       "7009718        1010            DL       1631  ...    8.0     32.0          0   \n",
       "7009719         753            DL       1632  ...   14.0     26.0          0   \n",
       "7009720        1026            DL       1633  ...   23.0     17.0          0   \n",
       "7009721         907            DL       1635  ...    5.0     23.0          0   \n",
       "7009722         859            DL       1636  ...   20.0     11.0          0   \n",
       "7009723        1150            DL       1636  ...    6.0     45.0          0   \n",
       "7009724        1023            DL       1637  ...    5.0     23.0          0   \n",
       "7009725         856            DL       1638  ...   24.0     12.0          0   \n",
       "7009726        1437            DL       1639  ...   13.0     13.0          0   \n",
       "7009727        1418            DL       1641  ...    8.0     11.0          0   \n",
       "\n",
       "         CancellationCode  Diverted  CarrierDelay WeatherDelay NASDelay  \\\n",
       "7009718               NaN         0           1.0          0.0     19.0   \n",
       "7009719               NaN         0           0.0          0.0     15.0   \n",
       "7009720               NaN         0           NaN          NaN      NaN   \n",
       "7009721               NaN         0           0.0          0.0     16.0   \n",
       "7009722               NaN         0           NaN          NaN      NaN   \n",
       "7009723               NaN         0           NaN          NaN      NaN   \n",
       "7009724               NaN         0           NaN          NaN      NaN   \n",
       "7009725               NaN         0           NaN          NaN      NaN   \n",
       "7009726               NaN         0           NaN          NaN      NaN   \n",
       "7009727               NaN         0           NaN          NaN      NaN   \n",
       "\n",
       "         SecurityDelay  LateAircraftDelay  \n",
       "7009718            0.0               79.0  \n",
       "7009719            0.0                0.0  \n",
       "7009720            NaN                NaN  \n",
       "7009721            0.0                0.0  \n",
       "7009722            NaN                NaN  \n",
       "7009723            NaN                NaN  \n",
       "7009724            NaN                NaN  \n",
       "7009725            NaN                NaN  \n",
       "7009726            NaN                NaN  \n",
       "7009727            NaN                NaN  \n",
       "\n",
       "[10 rows x 29 columns]"
      ]
     },
     "execution_count": 4,
     "metadata": {},
     "output_type": "execute_result"
    }
   ],
   "source": [
    "flights_data.tail(10)"
   ]
  },
  {
   "cell_type": "markdown",
   "metadata": {},
   "source": [
    "## Shape of dataset"
   ]
  },
  {
   "cell_type": "code",
   "execution_count": 5,
   "metadata": {},
   "outputs": [
    {
     "data": {
      "text/plain": [
       "(7009728, 29)"
      ]
     },
     "execution_count": 5,
     "metadata": {},
     "output_type": "execute_result"
    }
   ],
   "source": [
    "flights_data.shape"
   ]
  },
  {
   "cell_type": "markdown",
   "metadata": {},
   "source": [
    "## Use info() to see null values and dtypes"
   ]
  },
  {
   "cell_type": "code",
   "execution_count": 6,
   "metadata": {},
   "outputs": [
    {
     "name": "stdout",
     "output_type": "stream",
     "text": [
      "<class 'pandas.core.frame.DataFrame'>\n",
      "RangeIndex: 7009728 entries, 0 to 7009727\n",
      "Data columns (total 29 columns):\n",
      "Year                 int64\n",
      "Month                int64\n",
      "DayofMonth           int64\n",
      "DayOfWeek            int64\n",
      "DepTime              float64\n",
      "CRSDepTime           int64\n",
      "ArrTime              float64\n",
      "CRSArrTime           int64\n",
      "UniqueCarrier        object\n",
      "FlightNum            int64\n",
      "TailNum              object\n",
      "ActualElapsedTime    float64\n",
      "CRSElapsedTime       float64\n",
      "AirTime              float64\n",
      "ArrDelay             float64\n",
      "DepDelay             float64\n",
      "Origin               object\n",
      "Dest                 object\n",
      "Distance             int64\n",
      "TaxiIn               float64\n",
      "TaxiOut              float64\n",
      "Cancelled            int64\n",
      "CancellationCode     object\n",
      "Diverted             int64\n",
      "CarrierDelay         float64\n",
      "WeatherDelay         float64\n",
      "NASDelay             float64\n",
      "SecurityDelay        float64\n",
      "LateAircraftDelay    float64\n",
      "dtypes: float64(14), int64(10), object(5)\n",
      "memory usage: 1.5+ GB\n"
     ]
    }
   ],
   "source": [
    "flights_data.info()"
   ]
  },
  {
   "cell_type": "markdown",
   "metadata": {},
   "source": [
    "## Data Wrangling\n",
    "\n",
    "### Quality Issues\n",
    "\n",
    "<ul>\n",
    "    <li>Duplicate rows exist</li>\n",
    "    <li>Irregular column names</li>\n",
    "    <li>Month, day, year to a single column</li>\n",
    "    <li>deptime feature should be date time data type</li>\n",
    "    <li>crsdeptime feature should be date time data type</li>\n",
    "    <li>crsarrtime feature should be date time data type</li>\n",
    "    <li>arrtime feature should be date time data type</li>\n",
    "    <li>Null values in deptime feature</li>\n",
    "    <li>Null values in arrtime feature</li>\n",
    "    <li>Null values in tailnum feature</li>\n",
    "    <li>Null values in actualelapsedtime feature</li>\n",
    "    <li>Null values in crselapsedtime feature </li>\n",
    "    <li>Null values in airtime feature</li>\n",
    "    <li>Null values in arrdelay feature</li>\n",
    "    <li>Null values in taxiin feature</li>\n",
    "    <li>Null values in taxiout feature</li>\n",
    "    <li>Null values in cancellationcode feature</li>\n",
    "    <li>Null values in delay types</li>\n",
    "    <li>Convert actualelapsedtime, crselapsedtime, airtime, arrdelay, depdelay, carrierdely, weatherdelay, nasdelay, securitydelay, lateaircraftdelay features to hours</li>\n",
    "</ul>    "
   ]
  },
  {
   "cell_type": "markdown",
   "metadata": {},
   "source": [
    "## Duplicate data"
   ]
  },
  {
   "cell_type": "code",
   "execution_count": 7,
   "metadata": {},
   "outputs": [
    {
     "data": {
      "text/plain": [
       "4"
      ]
     },
     "execution_count": 7,
     "metadata": {},
     "output_type": "execute_result"
    }
   ],
   "source": [
    "flights_data.duplicated().sum()"
   ]
  },
  {
   "cell_type": "code",
   "execution_count": 8,
   "metadata": {},
   "outputs": [
    {
     "data": {
      "text/plain": [
       "0"
      ]
     },
     "execution_count": 8,
     "metadata": {},
     "output_type": "execute_result"
    }
   ],
   "source": [
    "flights_data.drop_duplicates(inplace=True)\n",
    "flights_data.duplicated().sum()"
   ]
  },
  {
   "cell_type": "markdown",
   "metadata": {},
   "source": [
    "## Standardize column names"
   ]
  },
  {
   "cell_type": "code",
   "execution_count": 9,
   "metadata": {},
   "outputs": [],
   "source": [
    "default_cols = list(flights_data.columns)\n",
    "lower_colnames = [name.lower() for name in default_cols]\n",
    "flights_data.columns = lower_colnames"
   ]
  },
  {
   "cell_type": "code",
   "execution_count": 10,
   "metadata": {},
   "outputs": [
    {
     "data": {
      "text/plain": [
       "Index(['year', 'month', 'dayofmonth', 'dayofweek', 'deptime', 'crsdeptime',\n",
       "       'arrtime', 'crsarrtime', 'uniquecarrier', 'flightnum', 'tailnum',\n",
       "       'actualelapsedtime', 'crselapsedtime', 'airtime', 'arrdelay',\n",
       "       'depdelay', 'origin', 'dest', 'distance', 'taxiin', 'taxiout',\n",
       "       'cancelled', 'cancellationcode', 'diverted', 'carrierdelay',\n",
       "       'weatherdelay', 'nasdelay', 'securitydelay', 'lateaircraftdelay'],\n",
       "      dtype='object')"
      ]
     },
     "execution_count": 10,
     "metadata": {},
     "output_type": "execute_result"
    }
   ],
   "source": [
    "flights_data.columns"
   ]
  },
  {
   "cell_type": "markdown",
   "metadata": {},
   "source": [
    "## Remove unnecessary columns"
   ]
  },
  {
   "cell_type": "code",
   "execution_count": 11,
   "metadata": {},
   "outputs": [],
   "source": [
    "flights_data.drop([\"flightnum\", \"tailnum\", \"flightnum\"] ,axis=1, inplace=True)\n"
   ]
  },
  {
   "cell_type": "markdown",
   "metadata": {},
   "source": [
    "## Convert year, month, dayofmonth and dayofweek to categorical datatype"
   ]
  },
  {
   "cell_type": "code",
   "execution_count": 12,
   "metadata": {},
   "outputs": [],
   "source": [
    "flights_data[\"year\"] = flights_data.year.astype(\"category\")\n",
    "flights_data[\"month\"] = flights_data.month.astype(\"category\")\n",
    "flights_data[\"dayofmonth\"] = flights_data.dayofmonth.astype(\"category\")\n",
    "flights_data[\"dayofweek\"] = flights_data.dayofweek.astype(\"category\")"
   ]
  },
  {
   "cell_type": "markdown",
   "metadata": {},
   "source": [
    "## Identify numerical and categorical variables"
   ]
  },
  {
   "cell_type": "code",
   "execution_count": 13,
   "metadata": {},
   "outputs": [],
   "source": [
    "category_vars = [\"year\", \"month\", \"dayofmonth\", \"dayofweek\", \"cancelled\", \"cancellationcode\"]\n",
    "numeric_vars = [\"actualelapsedtime\", \"crselapsedtime\", \"airtime\", \"arrdelay\", \"depdelay\", \"distance\",\\\n",
    "               \"taxiin\", \"taxiout\", \"carrierdelay\", \"weatherdelay\", \"nasdelay\", \"securitydelay\", \"lateaircraftdelay\"]"
   ]
  },
  {
   "cell_type": "markdown",
   "metadata": {},
   "source": [
    "## Use describe() for categorical and numeric variables"
   ]
  },
  {
   "cell_type": "code",
   "execution_count": 14,
   "metadata": {},
   "outputs": [
    {
     "data": {
      "text/html": [
       "<div>\n",
       "<style scoped>\n",
       "    .dataframe tbody tr th:only-of-type {\n",
       "        vertical-align: middle;\n",
       "    }\n",
       "\n",
       "    .dataframe tbody tr th {\n",
       "        vertical-align: top;\n",
       "    }\n",
       "\n",
       "    .dataframe thead th {\n",
       "        text-align: right;\n",
       "    }\n",
       "</style>\n",
       "<table border=\"1\" class=\"dataframe\">\n",
       "  <thead>\n",
       "    <tr style=\"text-align: right;\">\n",
       "      <th></th>\n",
       "      <th>deptime</th>\n",
       "      <th>crsdeptime</th>\n",
       "      <th>arrtime</th>\n",
       "      <th>crsarrtime</th>\n",
       "      <th>actualelapsedtime</th>\n",
       "      <th>crselapsedtime</th>\n",
       "      <th>airtime</th>\n",
       "      <th>arrdelay</th>\n",
       "      <th>depdelay</th>\n",
       "      <th>distance</th>\n",
       "      <th>taxiin</th>\n",
       "      <th>taxiout</th>\n",
       "      <th>cancelled</th>\n",
       "      <th>diverted</th>\n",
       "      <th>carrierdelay</th>\n",
       "      <th>weatherdelay</th>\n",
       "      <th>nasdelay</th>\n",
       "      <th>securitydelay</th>\n",
       "      <th>lateaircraftdelay</th>\n",
       "    </tr>\n",
       "  </thead>\n",
       "  <tbody>\n",
       "    <tr>\n",
       "      <th>count</th>\n",
       "      <td>6.873478e+06</td>\n",
       "      <td>7.009724e+06</td>\n",
       "      <td>6.858075e+06</td>\n",
       "      <td>7.009724e+06</td>\n",
       "      <td>6.855025e+06</td>\n",
       "      <td>7.008880e+06</td>\n",
       "      <td>6.855025e+06</td>\n",
       "      <td>6.855025e+06</td>\n",
       "      <td>6.873478e+06</td>\n",
       "      <td>7.009724e+06</td>\n",
       "      <td>6.858075e+06</td>\n",
       "      <td>6.872666e+06</td>\n",
       "      <td>7.009724e+06</td>\n",
       "      <td>7.009724e+06</td>\n",
       "      <td>1.524733e+06</td>\n",
       "      <td>1.524733e+06</td>\n",
       "      <td>1.524733e+06</td>\n",
       "      <td>1.524733e+06</td>\n",
       "      <td>1.524733e+06</td>\n",
       "    </tr>\n",
       "    <tr>\n",
       "      <th>mean</th>\n",
       "      <td>1.333830e+03</td>\n",
       "      <td>1.326086e+03</td>\n",
       "      <td>1.481258e+03</td>\n",
       "      <td>1.494801e+03</td>\n",
       "      <td>1.273224e+02</td>\n",
       "      <td>1.288668e+02</td>\n",
       "      <td>1.040186e+02</td>\n",
       "      <td>8.168445e+00</td>\n",
       "      <td>9.972565e+00</td>\n",
       "      <td>7.263868e+02</td>\n",
       "      <td>6.860851e+00</td>\n",
       "      <td>1.645305e+01</td>\n",
       "      <td>1.960619e-02</td>\n",
       "      <td>2.463007e-03</td>\n",
       "      <td>1.577205e+01</td>\n",
       "      <td>3.039035e+00</td>\n",
       "      <td>1.716462e+01</td>\n",
       "      <td>7.497444e-02</td>\n",
       "      <td>2.077101e+01</td>\n",
       "    </tr>\n",
       "    <tr>\n",
       "      <th>std</th>\n",
       "      <td>4.780689e+02</td>\n",
       "      <td>4.642509e+02</td>\n",
       "      <td>5.052251e+02</td>\n",
       "      <td>4.826728e+02</td>\n",
       "      <td>7.018731e+01</td>\n",
       "      <td>6.940974e+01</td>\n",
       "      <td>6.743979e+01</td>\n",
       "      <td>3.850194e+01</td>\n",
       "      <td>3.531127e+01</td>\n",
       "      <td>5.621018e+02</td>\n",
       "      <td>4.933651e+00</td>\n",
       "      <td>1.133280e+01</td>\n",
       "      <td>1.386427e-01</td>\n",
       "      <td>4.956754e-02</td>\n",
       "      <td>4.009913e+01</td>\n",
       "      <td>1.950289e+01</td>\n",
       "      <td>3.189497e+01</td>\n",
       "      <td>1.837941e+00</td>\n",
       "      <td>3.925965e+01</td>\n",
       "    </tr>\n",
       "    <tr>\n",
       "      <th>min</th>\n",
       "      <td>1.000000e+00</td>\n",
       "      <td>0.000000e+00</td>\n",
       "      <td>1.000000e+00</td>\n",
       "      <td>0.000000e+00</td>\n",
       "      <td>1.200000e+01</td>\n",
       "      <td>-1.410000e+02</td>\n",
       "      <td>0.000000e+00</td>\n",
       "      <td>-5.190000e+02</td>\n",
       "      <td>-5.340000e+02</td>\n",
       "      <td>1.100000e+01</td>\n",
       "      <td>0.000000e+00</td>\n",
       "      <td>0.000000e+00</td>\n",
       "      <td>0.000000e+00</td>\n",
       "      <td>0.000000e+00</td>\n",
       "      <td>0.000000e+00</td>\n",
       "      <td>0.000000e+00</td>\n",
       "      <td>0.000000e+00</td>\n",
       "      <td>0.000000e+00</td>\n",
       "      <td>0.000000e+00</td>\n",
       "    </tr>\n",
       "    <tr>\n",
       "      <th>25%</th>\n",
       "      <td>9.280000e+02</td>\n",
       "      <td>9.250000e+02</td>\n",
       "      <td>1.107000e+03</td>\n",
       "      <td>1.115000e+03</td>\n",
       "      <td>7.700000e+01</td>\n",
       "      <td>8.000000e+01</td>\n",
       "      <td>5.500000e+01</td>\n",
       "      <td>-1.000000e+01</td>\n",
       "      <td>-4.000000e+00</td>\n",
       "      <td>3.250000e+02</td>\n",
       "      <td>4.000000e+00</td>\n",
       "      <td>1.000000e+01</td>\n",
       "      <td>0.000000e+00</td>\n",
       "      <td>0.000000e+00</td>\n",
       "      <td>0.000000e+00</td>\n",
       "      <td>0.000000e+00</td>\n",
       "      <td>0.000000e+00</td>\n",
       "      <td>0.000000e+00</td>\n",
       "      <td>0.000000e+00</td>\n",
       "    </tr>\n",
       "    <tr>\n",
       "      <th>50%</th>\n",
       "      <td>1.325000e+03</td>\n",
       "      <td>1.320000e+03</td>\n",
       "      <td>1.512000e+03</td>\n",
       "      <td>1.517000e+03</td>\n",
       "      <td>1.100000e+02</td>\n",
       "      <td>1.100000e+02</td>\n",
       "      <td>8.600000e+01</td>\n",
       "      <td>-2.000000e+00</td>\n",
       "      <td>-1.000000e+00</td>\n",
       "      <td>5.810000e+02</td>\n",
       "      <td>6.000000e+00</td>\n",
       "      <td>1.400000e+01</td>\n",
       "      <td>0.000000e+00</td>\n",
       "      <td>0.000000e+00</td>\n",
       "      <td>0.000000e+00</td>\n",
       "      <td>0.000000e+00</td>\n",
       "      <td>6.000000e+00</td>\n",
       "      <td>0.000000e+00</td>\n",
       "      <td>0.000000e+00</td>\n",
       "    </tr>\n",
       "    <tr>\n",
       "      <th>75%</th>\n",
       "      <td>1.728000e+03</td>\n",
       "      <td>1.715000e+03</td>\n",
       "      <td>1.909000e+03</td>\n",
       "      <td>1.907000e+03</td>\n",
       "      <td>1.570000e+02</td>\n",
       "      <td>1.590000e+02</td>\n",
       "      <td>1.320000e+02</td>\n",
       "      <td>1.200000e+01</td>\n",
       "      <td>8.000000e+00</td>\n",
       "      <td>9.540000e+02</td>\n",
       "      <td>8.000000e+00</td>\n",
       "      <td>1.900000e+01</td>\n",
       "      <td>0.000000e+00</td>\n",
       "      <td>0.000000e+00</td>\n",
       "      <td>1.600000e+01</td>\n",
       "      <td>0.000000e+00</td>\n",
       "      <td>2.100000e+01</td>\n",
       "      <td>0.000000e+00</td>\n",
       "      <td>2.600000e+01</td>\n",
       "    </tr>\n",
       "    <tr>\n",
       "      <th>max</th>\n",
       "      <td>2.400000e+03</td>\n",
       "      <td>2.359000e+03</td>\n",
       "      <td>2.400000e+03</td>\n",
       "      <td>2.400000e+03</td>\n",
       "      <td>1.379000e+03</td>\n",
       "      <td>1.435000e+03</td>\n",
       "      <td>1.350000e+03</td>\n",
       "      <td>2.461000e+03</td>\n",
       "      <td>2.467000e+03</td>\n",
       "      <td>4.962000e+03</td>\n",
       "      <td>3.080000e+02</td>\n",
       "      <td>4.290000e+02</td>\n",
       "      <td>1.000000e+00</td>\n",
       "      <td>1.000000e+00</td>\n",
       "      <td>2.436000e+03</td>\n",
       "      <td>1.352000e+03</td>\n",
       "      <td>1.357000e+03</td>\n",
       "      <td>3.920000e+02</td>\n",
       "      <td>1.316000e+03</td>\n",
       "    </tr>\n",
       "  </tbody>\n",
       "</table>\n",
       "</div>"
      ],
      "text/plain": [
       "            deptime    crsdeptime       arrtime    crsarrtime  \\\n",
       "count  6.873478e+06  7.009724e+06  6.858075e+06  7.009724e+06   \n",
       "mean   1.333830e+03  1.326086e+03  1.481258e+03  1.494801e+03   \n",
       "std    4.780689e+02  4.642509e+02  5.052251e+02  4.826728e+02   \n",
       "min    1.000000e+00  0.000000e+00  1.000000e+00  0.000000e+00   \n",
       "25%    9.280000e+02  9.250000e+02  1.107000e+03  1.115000e+03   \n",
       "50%    1.325000e+03  1.320000e+03  1.512000e+03  1.517000e+03   \n",
       "75%    1.728000e+03  1.715000e+03  1.909000e+03  1.907000e+03   \n",
       "max    2.400000e+03  2.359000e+03  2.400000e+03  2.400000e+03   \n",
       "\n",
       "       actualelapsedtime  crselapsedtime       airtime      arrdelay  \\\n",
       "count       6.855025e+06    7.008880e+06  6.855025e+06  6.855025e+06   \n",
       "mean        1.273224e+02    1.288668e+02  1.040186e+02  8.168445e+00   \n",
       "std         7.018731e+01    6.940974e+01  6.743979e+01  3.850194e+01   \n",
       "min         1.200000e+01   -1.410000e+02  0.000000e+00 -5.190000e+02   \n",
       "25%         7.700000e+01    8.000000e+01  5.500000e+01 -1.000000e+01   \n",
       "50%         1.100000e+02    1.100000e+02  8.600000e+01 -2.000000e+00   \n",
       "75%         1.570000e+02    1.590000e+02  1.320000e+02  1.200000e+01   \n",
       "max         1.379000e+03    1.435000e+03  1.350000e+03  2.461000e+03   \n",
       "\n",
       "           depdelay      distance        taxiin       taxiout     cancelled  \\\n",
       "count  6.873478e+06  7.009724e+06  6.858075e+06  6.872666e+06  7.009724e+06   \n",
       "mean   9.972565e+00  7.263868e+02  6.860851e+00  1.645305e+01  1.960619e-02   \n",
       "std    3.531127e+01  5.621018e+02  4.933651e+00  1.133280e+01  1.386427e-01   \n",
       "min   -5.340000e+02  1.100000e+01  0.000000e+00  0.000000e+00  0.000000e+00   \n",
       "25%   -4.000000e+00  3.250000e+02  4.000000e+00  1.000000e+01  0.000000e+00   \n",
       "50%   -1.000000e+00  5.810000e+02  6.000000e+00  1.400000e+01  0.000000e+00   \n",
       "75%    8.000000e+00  9.540000e+02  8.000000e+00  1.900000e+01  0.000000e+00   \n",
       "max    2.467000e+03  4.962000e+03  3.080000e+02  4.290000e+02  1.000000e+00   \n",
       "\n",
       "           diverted  carrierdelay  weatherdelay      nasdelay  securitydelay  \\\n",
       "count  7.009724e+06  1.524733e+06  1.524733e+06  1.524733e+06   1.524733e+06   \n",
       "mean   2.463007e-03  1.577205e+01  3.039035e+00  1.716462e+01   7.497444e-02   \n",
       "std    4.956754e-02  4.009913e+01  1.950289e+01  3.189497e+01   1.837941e+00   \n",
       "min    0.000000e+00  0.000000e+00  0.000000e+00  0.000000e+00   0.000000e+00   \n",
       "25%    0.000000e+00  0.000000e+00  0.000000e+00  0.000000e+00   0.000000e+00   \n",
       "50%    0.000000e+00  0.000000e+00  0.000000e+00  6.000000e+00   0.000000e+00   \n",
       "75%    0.000000e+00  1.600000e+01  0.000000e+00  2.100000e+01   0.000000e+00   \n",
       "max    1.000000e+00  2.436000e+03  1.352000e+03  1.357000e+03   3.920000e+02   \n",
       "\n",
       "       lateaircraftdelay  \n",
       "count       1.524733e+06  \n",
       "mean        2.077101e+01  \n",
       "std         3.925965e+01  \n",
       "min         0.000000e+00  \n",
       "25%         0.000000e+00  \n",
       "50%         0.000000e+00  \n",
       "75%         2.600000e+01  \n",
       "max         1.316000e+03  "
      ]
     },
     "execution_count": 14,
     "metadata": {},
     "output_type": "execute_result"
    }
   ],
   "source": [
    "flights_data.describe(include = [np.number])"
   ]
  },
  {
   "cell_type": "code",
   "execution_count": 16,
   "metadata": {},
   "outputs": [
    {
     "data": {
      "text/html": [
       "<div>\n",
       "<style scoped>\n",
       "    .dataframe tbody tr th:only-of-type {\n",
       "        vertical-align: middle;\n",
       "    }\n",
       "\n",
       "    .dataframe tbody tr th {\n",
       "        vertical-align: top;\n",
       "    }\n",
       "\n",
       "    .dataframe thead th {\n",
       "        text-align: right;\n",
       "    }\n",
       "</style>\n",
       "<table border=\"1\" class=\"dataframe\">\n",
       "  <thead>\n",
       "    <tr style=\"text-align: right;\">\n",
       "      <th></th>\n",
       "      <th>year</th>\n",
       "      <th>month</th>\n",
       "      <th>dayofmonth</th>\n",
       "      <th>dayofweek</th>\n",
       "      <th>uniquecarrier</th>\n",
       "      <th>origin</th>\n",
       "      <th>dest</th>\n",
       "      <th>cancellationcode</th>\n",
       "    </tr>\n",
       "  </thead>\n",
       "  <tbody>\n",
       "    <tr>\n",
       "      <th>count</th>\n",
       "      <td>7009724</td>\n",
       "      <td>7009724</td>\n",
       "      <td>7009724</td>\n",
       "      <td>7009724</td>\n",
       "      <td>7009724</td>\n",
       "      <td>7009724</td>\n",
       "      <td>7009724</td>\n",
       "      <td>137434</td>\n",
       "    </tr>\n",
       "    <tr>\n",
       "      <th>unique</th>\n",
       "      <td>1</td>\n",
       "      <td>12</td>\n",
       "      <td>31</td>\n",
       "      <td>7</td>\n",
       "      <td>20</td>\n",
       "      <td>303</td>\n",
       "      <td>304</td>\n",
       "      <td>4</td>\n",
       "    </tr>\n",
       "    <tr>\n",
       "      <th>top</th>\n",
       "      <td>2008</td>\n",
       "      <td>7</td>\n",
       "      <td>21</td>\n",
       "      <td>3</td>\n",
       "      <td>WN</td>\n",
       "      <td>ATL</td>\n",
       "      <td>ATL</td>\n",
       "      <td>B</td>\n",
       "    </tr>\n",
       "    <tr>\n",
       "      <th>freq</th>\n",
       "      <td>7009724</td>\n",
       "      <td>627931</td>\n",
       "      <td>234533</td>\n",
       "      <td>1039665</td>\n",
       "      <td>1201754</td>\n",
       "      <td>414513</td>\n",
       "      <td>414521</td>\n",
       "      <td>54904</td>\n",
       "    </tr>\n",
       "  </tbody>\n",
       "</table>\n",
       "</div>"
      ],
      "text/plain": [
       "           year    month  dayofmonth  dayofweek uniquecarrier   origin  \\\n",
       "count   7009724  7009724     7009724    7009724       7009724  7009724   \n",
       "unique        1       12          31          7            20      303   \n",
       "top        2008        7          21          3            WN      ATL   \n",
       "freq    7009724   627931      234533    1039665       1201754   414513   \n",
       "\n",
       "           dest cancellationcode  \n",
       "count   7009724           137434  \n",
       "unique      304                4  \n",
       "top         ATL                B  \n",
       "freq     414521            54904  "
      ]
     },
     "execution_count": 16,
     "metadata": {},
     "output_type": "execute_result"
    }
   ],
   "source": [
    "flights_data.describe(include=[\"O\",  \"category\"])"
   ]
  },
  {
   "cell_type": "markdown",
   "metadata": {},
   "source": [
    "It is evident there are 20 different carriers, 303 origins, 304 destinations and 4 cancellation codes."
   ]
  },
  {
   "cell_type": "markdown",
   "metadata": {},
   "source": [
    "### Remove null values in deptime\n"
   ]
  },
  {
   "cell_type": "code",
   "execution_count": 8,
   "metadata": {},
   "outputs": [
    {
     "data": {
      "text/plain": [
       "Year                       0\n",
       "Month                      0\n",
       "DayofMonth                 0\n",
       "DayOfWeek                  0\n",
       "DepTime               136246\n",
       "CRSDepTime                 0\n",
       "ArrTime               151649\n",
       "CRSArrTime                 0\n",
       "UniqueCarrier              0\n",
       "FlightNum                  0\n",
       "TailNum                83365\n",
       "ActualElapsedTime     154699\n",
       "CRSElapsedTime           844\n",
       "AirTime               154699\n",
       "ArrDelay              154699\n",
       "DepDelay              136246\n",
       "Origin                     0\n",
       "Dest                       0\n",
       "Distance                   0\n",
       "TaxiIn                151649\n",
       "TaxiOut               137058\n",
       "Cancelled                  0\n",
       "CancellationCode     6872290\n",
       "Diverted                   0\n",
       "CarrierDelay         5484991\n",
       "WeatherDelay         5484991\n",
       "NASDelay             5484991\n",
       "SecurityDelay        5484991\n",
       "LateAircraftDelay    5484991\n",
       "dtype: int64"
      ]
     },
     "execution_count": 8,
     "metadata": {},
     "output_type": "execute_result"
    }
   ],
   "source": [
    "flights_data.isna().sum()"
   ]
  },
  {
   "cell_type": "markdown",
   "metadata": {},
   "source": [
    "### Convert categorical variables to category datatype"
   ]
  },
  {
   "cell_type": "code",
   "execution_count": 11,
   "metadata": {},
   "outputs": [
    {
     "data": {
      "text/plain": [
       "cancellationcode    category\n",
       "dest                category\n",
       "origin              category\n",
       "uniquecarrier       category\n",
       "dtype: object"
      ]
     },
     "execution_count": 11,
     "metadata": {},
     "output_type": "execute_result"
    }
   ],
   "source": [
    "flights_data[\"cancellationcode\"] = flights_data.cancellationcode.astype('category')\n",
    "flights_data[\"dest\"] = flights_data.dest.astype('category')\n",
    "flights_data[\"origin\"] = flights_data.origin.astype('category')\n",
    "flights_data[\"uniquecarrier\"] = flights_data.uniquecarrier.astype('category')\n",
    "flights_data[[\"cancellationcode\", \"dest\", \"origin\", \"uniquecarrier\"]].dtypes"
   ]
  },
  {
   "cell_type": "markdown",
   "metadata": {},
   "source": [
    "### Convert day, month, year to single column \"date\""
   ]
  },
  {
   "cell_type": "code",
   "execution_count": 12,
   "metadata": {},
   "outputs": [
    {
     "data": {
      "text/plain": [
       "Index(['dayofweek', 'deptime', 'crsdeptime', 'arrtime', 'crsarrtime',\n",
       "       'uniquecarrier', 'flightnum', 'tailnum', 'actualelapsedtime',\n",
       "       'crselapsedtime', 'airtime', 'arrdelay', 'depdelay', 'origin', 'dest',\n",
       "       'distance', 'taxiin', 'taxiout', 'cancelled', 'cancellationcode',\n",
       "       'diverted', 'carrierdelay', 'weatherdelay', 'nasdelay', 'securitydelay',\n",
       "       'lateaircraftdelay', 'date'],\n",
       "      dtype='object')"
      ]
     },
     "execution_count": 12,
     "metadata": {},
     "output_type": "execute_result"
    }
   ],
   "source": [
    "#Create a date column insted of 3 columns\n",
    "flights_data.rename(columns={\"dayofmonth\":\"day\"}, inplace=True)\n",
    "flights_data[\"date\"] = pd.to_datetime(flights_data[[\"year\", \"month\", \"day\"]])\n",
    "flights_data.drop([\"year\", \"month\", \"day\"], axis=1, inplace=True)\n",
    "flights_data.columns"
   ]
  },
  {
   "cell_type": "markdown",
   "metadata": {},
   "source": [
    "### Convert deptime, arrtime, crsdeptime, crsarrtime to date time data type"
   ]
  },
  {
   "cell_type": "code",
   "execution_count": 13,
   "metadata": {},
   "outputs": [],
   "source": [
    "#Converting to date time dtyps\n",
    "def convert_to_datetime(data):\n",
    "    if np.isnan(data):\n",
    "        return data\n",
    "    else:\n",
    "        replaced_string = str(data).replace(\".0\", \"\")\n",
    "        if(len(replaced_string) < 4):\n",
    "            return replaced_string.zfill(4)\n",
    "        else:\n",
    "            if replaced_string == \"2400\":\n",
    "                return \"0000\"\n",
    "            else:\n",
    "                return replaced_string\n",
    "\n"
   ]
  },
  {
   "cell_type": "code",
   "execution_count": 14,
   "metadata": {},
   "outputs": [],
   "source": [
    "flights_data[\"deptime\"] = flights_data.deptime.apply(convert_to_datetime)\n",
    "flights_data[\"arrtime\"] = flights_data.arrtime.apply(convert_to_datetime)\n",
    "flights_data[\"crsdeptime\"] = flights_data.crsdeptime.apply(convert_to_datetime)\n",
    "flights_data[\"crsarrtime\"] = flights_data.crsarrtime.apply(convert_to_datetime)\n",
    "flights_data[\"deptime\"] = pd.to_datetime(flights_data[\"deptime\"], format=\"%H%M\")\n",
    "flights_data[\"arrtime\"] = pd.to_datetime(flights_data[\"arrtime\"], format=\"%H%M\")\n",
    "flights_data[\"crsdeptime\"] = pd.to_datetime(flights_data[\"crsdeptime\"], format=\"%H%M\")\n",
    "flights_data[\"crsarrtime\"] = pd.to_datetime(flights_data[\"crsarrtime\"], format=\"%H%M\")\n"
   ]
  },
  {
   "cell_type": "code",
   "execution_count": 15,
   "metadata": {},
   "outputs": [
    {
     "data": {
      "text/plain": [
       "arrtime       datetime64[ns]\n",
       "deptime       datetime64[ns]\n",
       "crsdeptime    datetime64[ns]\n",
       "crsarrtime    datetime64[ns]\n",
       "dtype: object"
      ]
     },
     "execution_count": 15,
     "metadata": {},
     "output_type": "execute_result"
    }
   ],
   "source": [
    "flights_data[[\"arrtime\",\"deptime\",\"crsdeptime\",\"crsarrtime\"]].dtypes"
   ]
  },
  {
   "cell_type": "code",
   "execution_count": 17,
   "metadata": {},
   "outputs": [
    {
     "name": "stdout",
     "output_type": "stream",
     "text": [
      "<class 'pandas.core.frame.DataFrame'>\n",
      "Int64Index: 7009724 entries, 0 to 7009727\n",
      "Data columns (total 25 columns):\n",
      "dayofweek            7009724 non-null int64\n",
      "deptime              6873478 non-null datetime64[ns]\n",
      "crsdeptime           7009724 non-null datetime64[ns]\n",
      "arrtime              6858075 non-null datetime64[ns]\n",
      "crsarrtime           7009724 non-null datetime64[ns]\n",
      "uniquecarrier        7009724 non-null category\n",
      "actualelapsedtime    6855025 non-null float64\n",
      "crselapsedtime       7008880 non-null float64\n",
      "airtime              6855025 non-null float64\n",
      "arrdelay             6855025 non-null float64\n",
      "depdelay             6873478 non-null float64\n",
      "origin               7009724 non-null category\n",
      "dest                 7009724 non-null category\n",
      "distance             7009724 non-null int64\n",
      "taxiin               6858075 non-null float64\n",
      "taxiout              6872666 non-null float64\n",
      "cancelled            7009724 non-null int64\n",
      "cancellationcode     137434 non-null category\n",
      "diverted             7009724 non-null int64\n",
      "carrierdelay         1524733 non-null float64\n",
      "weatherdelay         1524733 non-null float64\n",
      "nasdelay             1524733 non-null float64\n",
      "securitydelay        1524733 non-null float64\n",
      "lateaircraftdelay    1524733 non-null float64\n",
      "date                 7009724 non-null datetime64[ns]\n",
      "dtypes: category(4), datetime64[ns](5), float64(12), int64(4)\n",
      "memory usage: 1.2 GB\n"
     ]
    }
   ],
   "source": [
    "flights_data.info(null_counts=True)"
   ]
  },
  {
   "cell_type": "markdown",
   "metadata": {},
   "source": [
    "## Univariate Exploration\n",
    "\n",
    "> In this section, investigate distributions of individual variables. If\n",
    "you see unusual points or outliers, take a deeper look to clean things up\n",
    "and prepare yourself to look at relationships between variables."
   ]
  },
  {
   "cell_type": "code",
   "execution_count": 18,
   "metadata": {},
   "outputs": [
    {
     "data": {
      "text/plain": [
       "Text(0.5, 1.0, 'Flights in each month')"
      ]
     },
     "execution_count": 18,
     "metadata": {},
     "output_type": "execute_result"
    },
    {
     "data": {
      "image/png": "[encoded data removed]",
      "text/plain": [
       "<Figure size 432x288 with 1 Axes>"
      ]
     },
     "metadata": {
      "needs_background": "light"
     },
     "output_type": "display_data"
    }
   ],
   "source": [
    "flights_date_indexed = flights_data.copy()\n",
    "flights_date_indexed.index = flights_date_indexed[\"date\"]\n",
    "flights_months = flights_data.groupby(flights_date_indexed.index.month).distance.count()\n",
    "plt.bar(range(1, 13), flights_months)\n",
    "months_labels = [\"Jan\", \"Feb\", \"Mar\", \"Apr\", \"May\", \"Jun\", \"Jul\", \"Aug\", \"Sep\", \"Oct\", \"Nov\", \"Dec\"]\n",
    "months_ticks = np.arange(1, 13, 1)\n",
    "plt.xticks(months_ticks, months_labels)\n",
    "plt.xlabel(\"Months\")\n",
    "plt.ylabel(\"Number of flights\")\n",
    "plt.title(\"Flights in each month\")\n"
   ]
  },
  {
   "cell_type": "markdown",
   "metadata": {},
   "source": [
    "Number of flights are increasing by each year. In the year 1987, there seems to be a very small number of flights comparitively. This needs to looked into much deeper\n",
    "\n",
    "There seems to be very few flights in Februaries that needs to be looked into further. Other than There seems to be a large number of flights in December, October and August."
   ]
  },
  {
   "cell_type": "code",
   "execution_count": 19,
   "metadata": {},
   "outputs": [
    {
     "data": {
      "image/png": "[encoded data removed]",
      "text/plain": [
       "<Figure size 1008x864 with 6 Axes>"
      ]
     },
     "metadata": {
      "needs_background": "light"
     },
     "output_type": "display_data"
    }
   ],
   "source": [
    "# plt.figure(figsize=(12,7))\n",
    "# flights_data[[\"arrdelay\", \"depdelay\"]].hist()\n",
    "hist_cols = [\"actualelapsedtime\", \"airtime\", \"arrdelay\", \"crselapsedtime\", \"depdelay\", \"distance\"]\n",
    "flights_data[hist_cols].hist(bins=50, figsize=(14,12));\n"
   ]
  },
  {
   "cell_type": "code",
   "execution_count": 26,
   "metadata": {},
   "outputs": [
    {
     "data": {
      "text/plain": [
       "<matplotlib.axes._subplots.AxesSubplot at 0x1a22e86cc0>"
      ]
     },
     "execution_count": 26,
     "metadata": {},
     "output_type": "execute_result"
    },
    {
     "data": {
      "image/png": "[encoded data removed]",
      "text/plain": [
       "<Figure size 432x288 with 2 Axes>"
      ]
     },
     "metadata": {
      "needs_background": "light"
     },
     "output_type": "display_data"
    }
   ],
   "source": []
  },
  {
   "cell_type": "markdown",
   "metadata": {},
   "source": []
  },
  {
   "cell_type": "code",
   "execution_count": 20,
   "metadata": {},
   "outputs": [
    {
     "data": {
      "text/plain": [
       "<matplotlib.axes._subplots.AxesSubplot at 0x1a2f535588>"
      ]
     },
     "execution_count": 20,
     "metadata": {},
     "output_type": "execute_result"
    },
    {
     "data": {
      "image/png": "[encoded data removed]",
      "text/plain": [
       "<Figure size 432x288 with 1 Axes>"
      ]
     },
     "metadata": {
      "needs_background": "light"
     },
     "output_type": "display_data"
    }
   ],
   "source": [
    "flights_data.boxplot(column=[\"arrdelay\", \"depdelay\"])"
   ]
  },
  {
   "cell_type": "markdown",
   "metadata": {},
   "source": []
  },
  {
   "cell_type": "markdown",
   "metadata": {},
   "source": [
    "There appear to be a lot of outliers in arrival and departure delays"
   ]
  },
  {
   "cell_type": "code",
   "execution_count": 21,
   "metadata": {},
   "outputs": [
    {
     "data": {
      "text/plain": [
       "Text(0, 0.5, 'Number of flights')"
      ]
     },
     "execution_count": 21,
     "metadata": {},
     "output_type": "execute_result"
    },
    {
     "data": {
      "image/png": "[encoded data removed]",
      "text/plain": [
       "<Figure size 432x288 with 1 Axes>"
      ]
     },
     "metadata": {
      "needs_background": "light"
     },
     "output_type": "display_data"
    }
   ],
   "source": [
    "# cancelled_flights = flights_data.query(\"Cancelled == 0\")[\"CancellationCode\"]\n",
    "sb.countplot(data=flights_data, x=\"cancelled\")\n",
    "\n",
    "plt.xticks([0,1], [\"Not Cancelled\", \"Cancelled\"])\n",
    "plt.xlabel(\"\")\n",
    "plt.ylabel(\"Number of flights\")"
   ]
  },
  {
   "cell_type": "code",
   "execution_count": 22,
   "metadata": {},
   "outputs": [
    {
     "data": {
      "text/plain": [
       "Text(0, 0.5, 'Number of flights')"
      ]
     },
     "execution_count": 22,
     "metadata": {},
     "output_type": "execute_result"
    },
    {
     "data": {
      "image/png": "[encoded data removed]",
      "text/plain": [
       "<Figure size 432x288 with 1 Axes>"
      ]
     },
     "metadata": {
      "needs_background": "light"
     },
     "output_type": "display_data"
    }
   ],
   "source": [
    "\n",
    "cancel_order = flights_data.cancellationcode.value_counts().index\n",
    "sb.countplot(data=flights_data, x=\"cancellationcode\", order=cancel_order, color=sb.color_palette()[0])\n",
    "cancelCode_xticks = np.arange(0,4,1)\n",
    "cancelCode_xticklabels = [\"Carrier\", \"Weather\", \"NAS\", \"Security\"]\n",
    "plt.xticks(cancelCode_xticks, cancelCode_xticklabels)\n",
    "plt.xlabel(\"Cause of cancellation\")\n",
    "plt.ylabel(\"Number of flights\")"
   ]
  },
  {
   "cell_type": "markdown",
   "metadata": {},
   "source": [
    "It seems like a large number of the flights were cancelled due to carrier and weather wherase only a very few was cancelled due to security issues."
   ]
  },
  {
   "cell_type": "markdown",
   "metadata": {},
   "source": [
    "### Discuss the distribution(s) of your variable(s) of interest. Were there any unusual points? Did you need to perform any transformations?\n",
    "\n",
    "> Your answer here!\n",
    "\n",
    "### Of the features you investigated, were there any unusual distributions? Did you perform any operations on the data to tidy, adjust, or change the form of the data? If so, why did you do this?\n",
    "\n",
    "> Your answer here!"
   ]
  },
  {
   "cell_type": "markdown",
   "metadata": {},
   "source": [
    "## Bivariate Exploration\n",
    "\n",
    "> In this section, investigate relationships between pairs of variables in your\n",
    "data. Make sure the variables that you cover here have been introduced in some\n",
    "fashion in the previous section (univariate exploration)."
   ]
  },
  {
   "cell_type": "code",
   "execution_count": 28,
   "metadata": {},
   "outputs": [
    {
     "data": {
      "text/plain": [
       "<matplotlib.collections.PathCollection at 0x1a3d2fa588>"
      ]
     },
     "execution_count": 28,
     "metadata": {},
     "output_type": "execute_result"
    },
    {
     "data": {
      "image/png": "[encoded data removed]",
      "text/plain": [
       "<Figure size 432x288 with 7 Axes>"
      ]
     },
     "metadata": {
      "needs_background": "light"
     },
     "output_type": "display_data"
    }
   ],
   "source": [
    "#Plot matrix for scatter plots\n",
    "plt.subplot(4, 3, 1)\n",
    "plt.scatter(flights_data.depdelay, flights_data.arrdelay)\n",
    "plt.subplot(4, 3, 2)\n",
    "plt.scatter(flights_data.airtime, flights_data.arrdelay)\n",
    "plt.subplot(4, 3, 3)\n",
    "plt.scatter(flights_data.airtime, flights_data.depdelay)\n",
    "plt.subplot(4, 3, 4)\n",
    "plt.scatter(flights_data.taxiin, flights_data.taxiout)\n",
    "plt.subplot(4, 3, 5)\n",
    "plt.scatter(flights_data.taxiout, flights_data.arrdelay)\n",
    "plt.subplot(4, 3, 6)\n",
    "plt.scatter(flights_data.distance, flights_data.arrdelay)\n",
    "plt.subplot(4, 3, 7)\n",
    "plt.scatter(flights_data.distance, flights_data.depdelay)\n",
    "plt.subplots_adjust(bottom=0.5, right=0.8, top=0.9)\n",
    "\n",
    "\n",
    "# scatter_matrix_atts = [\"arrdelay\", \"depdelay\", \"airtime\", \"taxiin\", \"taxiout\", \"distance\"]\n",
    "# scatter_grid = sb.PairGrid(data=flights_data, vars=scatter_matrix_atts)"
   ]
  },
  {
   "cell_type": "code",
   "execution_count": null,
   "metadata": {},
   "outputs": [],
   "source": [
    "scatter_grid.map_diag(plt.hist)\n",
    "scatter_grid.map_offdiag(plt.scatter)"
   ]
  },
  {
   "cell_type": "markdown",
   "metadata": {},
   "source": [
    "### Talk about some of the relationships you observed in this part of the investigation. How did the feature(s) of interest vary with other features in the dataset?\n",
    "\n",
    "> Your answer here!\n",
    "\n",
    "### Did you observe any interesting relationships between the other features (not the main feature(s) of interest)?\n",
    "\n",
    "> Your answer here!"
   ]
  },
  {
   "cell_type": "markdown",
   "metadata": {},
   "source": [
    "## Multivariate Exploration\n",
    "\n",
    "> Create plots of three or more variables to investigate your data even\n",
    "further. Make sure that your investigations are justified, and follow from\n",
    "your work in the previous sections."
   ]
  },
  {
   "cell_type": "code",
   "execution_count": null,
   "metadata": {},
   "outputs": [],
   "source": []
  },
  {
   "cell_type": "markdown",
   "metadata": {},
   "source": [
    "### Talk about some of the relationships you observed in this part of the investigation. Were there features that strengthened each other in terms of looking at your feature(s) of interest?\n",
    "\n",
    "> Your answer here!\n",
    "\n",
    "### Were there any interesting or surprising interactions between features?\n",
    "\n",
    "> Your answer here!"
   ]
  },
  {
   "cell_type": "markdown",
   "metadata": {},
   "source": [
    "> At the end of your report, make sure that you export the notebook as an\n",
    "html file from the `File > Download as... > HTML` menu. Make sure you keep\n",
    "track of where the exported file goes, so you can put it in the same folder\n",
    "as this notebook for project submission. Also, make sure you remove all of\n",
    "the quote-formatted guide notes like this one before you finish your report!"
   ]
  },
  {
   "cell_type": "code",
   "execution_count": null,
   "metadata": {},
   "outputs": [],
   "source": []
  }
 ],
 "metadata": {
  "kernelspec": {
   "display_name": "Python 3",
   "language": "python",
   "name": "python3"
  },
  "language_info": {
   "codemirror_mode": {
    "name": "ipython",
    "version": 3
   },
   "file_extension": ".py",
   "mimetype": "text/x-python",
   "name": "python",
   "nbconvert_exporter": "python",
   "pygments_lexer": "ipython3",
   "version": "3.6.8"
  }
 },
 "nbformat": 4,
 "nbformat_minor": 2
}
