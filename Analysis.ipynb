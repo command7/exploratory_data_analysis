{
 "cells": [
  {
   "cell_type": "markdown",
   "metadata": {},
   "source": [
    "# (Dataset Exploration Title)\n",
    "## by (your name here)\n",
    "\n",
    "## Preliminary Wrangling\n",
    "\n",
    "> Briefly introduce your dataset here."
   ]
  },
  {
   "cell_type": "code",
   "execution_count": 1,
   "metadata": {},
   "outputs": [],
   "source": [
    "# import all packages and set plots to be embedded inline\n",
    "import numpy as np\n",
    "import pandas as pd\n",
    "import matplotlib.pyplot as plt\n",
    "import seaborn as sb\n",
    "\n",
    "%matplotlib inline"
   ]
  },
  {
   "cell_type": "markdown",
   "metadata": {},
   "source": [
    "> Load in your dataset and describe its properties through the questions below.\n",
    "Try and motivate your exploration goals through this section."
   ]
  },
  {
   "cell_type": "code",
   "execution_count": 2,
   "metadata": {},
   "outputs": [],
   "source": [
    "flights_data = pd.read_csv(\"2008.csv\")"
   ]
  },
  {
   "cell_type": "code",
   "execution_count": 3,
   "metadata": {},
   "outputs": [
    {
     "name": "stdout",
     "output_type": "stream",
     "text": [
      "<class 'pandas.core.frame.DataFrame'>\n",
      "RangeIndex: 7009728 entries, 0 to 7009727\n",
      "Data columns (total 29 columns):\n",
      "Year                 7009728 non-null int64\n",
      "Month                7009728 non-null int64\n",
      "DayofMonth           7009728 non-null int64\n",
      "DayOfWeek            7009728 non-null int64\n",
      "DepTime              6873482 non-null float64\n",
      "CRSDepTime           7009728 non-null int64\n",
      "ArrTime              6858079 non-null float64\n",
      "CRSArrTime           7009728 non-null int64\n",
      "UniqueCarrier        7009728 non-null object\n",
      "FlightNum            7009728 non-null int64\n",
      "TailNum              6926363 non-null object\n",
      "ActualElapsedTime    6855029 non-null float64\n",
      "CRSElapsedTime       7008884 non-null float64\n",
      "AirTime              6855029 non-null float64\n",
      "ArrDelay             6855029 non-null float64\n",
      "DepDelay             6873482 non-null float64\n",
      "Origin               7009728 non-null object\n",
      "Dest                 7009728 non-null object\n",
      "Distance             7009728 non-null int64\n",
      "TaxiIn               6858079 non-null float64\n",
      "TaxiOut              6872670 non-null float64\n",
      "Cancelled            7009728 non-null int64\n",
      "CancellationCode     137434 non-null object\n",
      "Diverted             7009728 non-null int64\n",
      "CarrierDelay         1524735 non-null float64\n",
      "WeatherDelay         1524735 non-null float64\n",
      "NASDelay             1524735 non-null float64\n",
      "SecurityDelay        1524735 non-null float64\n",
      "LateAircraftDelay    1524735 non-null float64\n",
      "dtypes: float64(14), int64(10), object(5)\n",
      "memory usage: 1.5+ GB\n"
     ]
    }
   ],
   "source": [
    "flights_data.info(null_counts = True)"
   ]
  },
  {
   "cell_type": "markdown",
   "metadata": {},
   "source": [
    "## Data Wrangling\n",
    "\n",
    "### Quality Issues\n",
    "\n",
    "<ul>\n",
    "    <li>Irregular column names</li>\n",
    "    <li>Month, day, year to a single column</li>\n",
    "    <li>deptime feature should be date time data type</li>\n",
    "    <li>crsdeptime feature should be date time data type</li>\n",
    "    <li>crsarrtime feature should be date time data type</li>\n",
    "    <li>arrtime feature should be date time data type</li>\n",
    "    <li>Null values in deptime feature</li>\n",
    "    <li>Null values in arrtime feature</li>\n",
    "    <li>Null values in tailnum feature</li>\n",
    "    <li>Null values in actualelapsedtime feature</li>\n",
    "    <li>Null values in crselapsedtime feature </li>\n",
    "    <li>Null values in airtime feature</li>\n",
    "    <li>Null values in arrdelay feature</li>\n",
    "    <li>Null values in taxiin feature</li>\n",
    "    <li>Null values in taxiout feature</li>\n",
    "    <li>Null values in cancellationcode feature</li>\n",
    "    <li>Null values in delay types</li>\n",
    "</ul>    "
   ]
  },
  {
   "cell_type": "markdown",
   "metadata": {},
   "source": [
    "### Standardize column names"
   ]
  },
  {
   "cell_type": "code",
   "execution_count": 4,
   "metadata": {},
   "outputs": [],
   "source": [
    "default_cols = list(flights_data.columns)\n",
    "lower_colnames = [name.lower() for name in default_cols]\n",
    "flights_data.columns = lower_colnames"
   ]
  },
  {
   "cell_type": "code",
   "execution_count": 5,
   "metadata": {},
   "outputs": [
    {
     "data": {
      "text/plain": [
       "Index(['year', 'month', 'dayofmonth', 'dayofweek', 'deptime', 'crsdeptime',\n",
       "       'arrtime', 'crsarrtime', 'uniquecarrier', 'flightnum', 'tailnum',\n",
       "       'actualelapsedtime', 'crselapsedtime', 'airtime', 'arrdelay',\n",
       "       'depdelay', 'origin', 'dest', 'distance', 'taxiin', 'taxiout',\n",
       "       'cancelled', 'cancellationcode', 'diverted', 'carrierdelay',\n",
       "       'weatherdelay', 'nasdelay', 'securitydelay', 'lateaircraftdelay'],\n",
       "      dtype='object')"
      ]
     },
     "execution_count": 5,
     "metadata": {},
     "output_type": "execute_result"
    }
   ],
   "source": [
    "flights_data.columns"
   ]
  },
  {
   "cell_type": "markdown",
   "metadata": {},
   "source": [
    "### Convert categorical variables to category datatype"
   ]
  },
  {
   "cell_type": "code",
   "execution_count": 6,
   "metadata": {},
   "outputs": [
    {
     "data": {
      "text/plain": [
       "cancellationcode    category\n",
       "dest                category\n",
       "origin              category\n",
       "uniquecarrier       category\n",
       "dtype: object"
      ]
     },
     "execution_count": 6,
     "metadata": {},
     "output_type": "execute_result"
    }
   ],
   "source": [
    "flights_data[\"cancellationcode\"] = flights_data.cancellationcode.astype('category')\n",
    "flights_data[\"dest\"] = flights_data.dest.astype('category')\n",
    "flights_data[\"origin\"] = flights_data.origin.astype('category')\n",
    "flights_data[\"uniquecarrier\"] = flights_data.uniquecarrier.astype('category')\n",
    "flights_data[[\"cancellationcode\", \"dest\", \"origin\", \"uniquecarrier\"]].dtypes"
   ]
  },
  {
   "cell_type": "markdown",
   "metadata": {},
   "source": [
    "### Convert day, month, year to single column \"date\""
   ]
  },
  {
   "cell_type": "code",
   "execution_count": 7,
   "metadata": {},
   "outputs": [
    {
     "data": {
      "text/plain": [
       "Index(['dayofweek', 'deptime', 'crsdeptime', 'arrtime', 'crsarrtime',\n",
       "       'uniquecarrier', 'flightnum', 'tailnum', 'actualelapsedtime',\n",
       "       'crselapsedtime', 'airtime', 'arrdelay', 'depdelay', 'origin', 'dest',\n",
       "       'distance', 'taxiin', 'taxiout', 'cancelled', 'cancellationcode',\n",
       "       'diverted', 'carrierdelay', 'weatherdelay', 'nasdelay', 'securitydelay',\n",
       "       'lateaircraftdelay', 'date'],\n",
       "      dtype='object')"
      ]
     },
     "execution_count": 7,
     "metadata": {},
     "output_type": "execute_result"
    }
   ],
   "source": [
    "#Create a date column insted of 3 columns\n",
    "flights_data.rename(columns={\"dayofmonth\":\"day\"}, inplace=True)\n",
    "flights_data[\"date\"] = pd.to_datetime(flights_data[[\"year\", \"month\", \"day\"]])\n",
    "flights_data.drop([\"year\", \"month\", \"day\"], axis=1, inplace=True)\n",
    "flights_data.columns"
   ]
  },
  {
   "cell_type": "code",
   "execution_count": 8,
   "metadata": {},
   "outputs": [],
   "source": [
    "#Converting to date time dtyps\n",
    "def convert_to_datetime(data):\n",
    "    if np.isnan(data):\n",
    "        return data\n",
    "    else:\n",
    "        replaced_string = str(data).replace(\".0\", \"\")\n",
    "        if(len(replaced_string) < 4):\n",
    "            return replaced_string.zfill(4)\n",
    "        else:\n",
    "            if replaced_string == \"2400\":\n",
    "                return \"0000\"\n",
    "            else:\n",
    "                return replaced_string\n"
   ]
  },
  {
   "cell_type": "markdown",
   "metadata": {},
   "source": [
    "### Convert deptime to date time data type"
   ]
  },
  {
   "cell_type": "code",
   "execution_count": 9,
   "metadata": {},
   "outputs": [
    {
     "data": {
      "text/plain": [
       "dtype('<M8[ns]')"
      ]
     },
     "execution_count": 9,
     "metadata": {},
     "output_type": "execute_result"
    }
   ],
   "source": [
    "flights_data[\"dep_time\"] = flights_data.deptime.apply(convert_to_datetime)\n",
    "flights_data[\"dep_time\"] = pd.to_datetime(flights_data[\"dep_time\"], format=\"%H%M\")\n",
    "flights_data.dep_time.dtypes"
   ]
  },
  {
   "cell_type": "raw",
   "metadata": {},
   "source": [
    "flights_data.dep_time.dtypes"
   ]
  },
  {
   "cell_type": "raw",
   "metadata": {},
   "source": [
    "temp_data = flights_data[\"deptime\"][:10]\n",
    "print(temp_data)\n",
    "temp_data = temp_data.apply(convert_to_datetime)\n",
    "temp_data = pd.to_datetime(temp_data, format=\"%H%M\")\n",
    "print(temp_data)"
   ]
  },
  {
   "cell_type": "raw",
   "metadata": {},
   "source": [
    "#flights_data[\"DepTime\"] = flights_data.DepTime.astype(str).str.pad(width=6, side=\"left\", fillchar=\"0\")\n",
    "# pd.to_datetime(flights_data[\"DepTime\"].astype(str), format=\"%H%M.0\")\n",
    "flights_data.info(null_counts=True, memory_usage=True)"
   ]
  },
  {
   "cell_type": "raw",
   "metadata": {},
   "source": [
    "flights_data.dtypes"
   ]
  },
  {
   "cell_type": "markdown",
   "metadata": {},
   "source": [
    "### What is the structure of your dataset?\n",
    "\n",
    "> Your answer here!\n",
    "\n",
    "### What is/are the main feature(s) of interest in your dataset?\n",
    "\n",
    "> Your answer here!\n",
    "\n",
    "### What features in the dataset do you think will help support your investigation into your feature(s) of interest?\n",
    "\n",
    "> Your answer here!"
   ]
  },
  {
   "cell_type": "markdown",
   "metadata": {},
   "source": [
    "## Univariate Exploration\n",
    "\n",
    "> In this section, investigate distributions of individual variables. If\n",
    "you see unusual points or outliers, take a deeper look to clean things up\n",
    "and prepare yourself to look at relationships between variables."
   ]
  },
  {
   "cell_type": "code",
   "execution_count": null,
   "metadata": {},
   "outputs": [
    {
     "data": {
      "image/png": "[encoded data removed]",
      "text/plain": [
       "<Figure size 864x432 with 2 Axes>"
      ]
     },
     "metadata": {
      "needs_background": "light"
     },
     "output_type": "display_data"
    }
   ],
   "source": [
    "plt.figure(figsize=(12,6))\n",
    "plt.subplot(1,2,1)\n",
    "sb.countplot(data=flights_data,x=\"year\", color=sb.color_palette()[0])\n",
    "plt.xticks(rotation=90)\n",
    "plt.xlabel(\"y\\Year\")\n",
    "plt.ylabel(\"Number of flights\")\n",
    "plt.subplot(1,2,2)\n",
    "sb.countplot(data=flights_data, x=\"month\", color=sb.color_palette()[0])\n",
    "y_ticks = [10, 100, 1000, 10000, 100000]\n",
    "plt.yticks(y_ticks, y_ticks)\n",
    "months_labels = [\"Jan\", \"Feb\", \"Mar\", \"Apr\", \"May\", \"Jun\", \"Jul\", \"Aug\", \"Sep\", \"Oct\", \"Nov\", \"Dec\"]\n",
    "months_ticks = np.arange(0, 13, 1)\n",
    "plt.xticks(months_ticks, months_labels)\n",
    "plt.xlabel(\"Months\")\n",
    "plt.ylabel(\"Number of flights\")\n",
    "plt.yscale(\"log\")\n"
   ]
  },
  {
   "cell_type": "markdown",
   "metadata": {},
   "source": [
    "Number of flights are increasing by each year. In the year 1987, there seems to be a very small number of flights comparitively. This needs to looked into much deeper\n",
    "\n",
    "There seems to be very few flights in Februaries that needs to be looked into further. Other than There seems to be a large number of flights in December, October and August."
   ]
  },
  {
   "cell_type": "code",
   "execution_count": null,
   "metadata": {},
   "outputs": [
    {
     "data": {
      "text/plain": [
       "array([[<matplotlib.axes._subplots.AxesSubplot object at 0x1a75ad3240>,\n",
       "        <matplotlib.axes._subplots.AxesSubplot object at 0x1a5124c710>]],\n",
       "      dtype=object)"
      ]
     },
     "execution_count": 10,
     "metadata": {},
     "output_type": "execute_result"
    },
    {
     "data": {
      "text/plain": [
       "<Figure size 864x504 with 0 Axes>"
      ]
     },
     "metadata": {},
     "output_type": "display_data"
    },
    {
     "data": {
      "image/png": "[encoded data removed]",
      "text/plain": [
       "<Figure size 432x288 with 2 Axes>"
      ]
     },
     "metadata": {
      "needs_background": "light"
     },
     "output_type": "display_data"
    }
   ],
   "source": [
    "plt.figure(figsize=(12,7))\n",
    "flights_data[[\"arrdelay\", \"depdelay\"]].hist()\n"
   ]
  },
  {
   "cell_type": "code",
   "execution_count": null,
   "metadata": {},
   "outputs": [
    {
     "data": {
      "text/plain": [
       "<matplotlib.axes._subplots.AxesSubplot at 0x1a42186860>"
      ]
     },
     "execution_count": 11,
     "metadata": {},
     "output_type": "execute_result"
    },
    {
     "data": {
      "image/png": "[encoded data removed]",
      "text/plain": [
       "<Figure size 432x288 with 1 Axes>"
      ]
     },
     "metadata": {
      "needs_background": "light"
     },
     "output_type": "display_data"
    }
   ],
   "source": [
    "flights_data.boxplot(column=[\"arrdelay\", \"depdelay\"])"
   ]
  },
  {
   "cell_type": "markdown",
   "metadata": {},
   "source": [
    "There appear to be a lot of outliers in arrival and departure delays"
   ]
  },
  {
   "cell_type": "code",
   "execution_count": null,
   "metadata": {},
   "outputs": [
    {
     "data": {
      "text/plain": [
       "Text(0, 0.5, 'Number of flights')"
      ]
     },
     "execution_count": 12,
     "metadata": {},
     "output_type": "execute_result"
    },
    {
     "data": {
      "image/png": "[encoded data removed]",
      "text/plain": [
       "<Figure size 432x288 with 1 Axes>"
      ]
     },
     "metadata": {
      "needs_background": "light"
     },
     "output_type": "display_data"
    }
   ],
   "source": [
    "# cancelled_flights = flights_data.query(\"Cancelled == 0\")[\"CancellationCode\"]\n",
    "sb.countplot(data=flights_data, x=\"cancelled\")\n",
    "plt.yscale(\"log\")\n",
    "plt.xticks([0,1], [\"Not Cancelled\", \"Cancelled\"])\n",
    "plt.xlabel(\"\")\n",
    "plt.ylabel(\"Number of flights\")"
   ]
  },
  {
   "cell_type": "code",
   "execution_count": null,
   "metadata": {},
   "outputs": [
    {
     "data": {
      "text/plain": [
       "Text(0, 0.5, 'Number of flights')"
      ]
     },
     "execution_count": 13,
     "metadata": {},
     "output_type": "execute_result"
    },
    {
     "data": {
      "image/png": "[encoded data removed]",
      "text/plain": [
       "<Figure size 432x288 with 1 Axes>"
      ]
     },
     "metadata": {
      "needs_background": "light"
     },
     "output_type": "display_data"
    }
   ],
   "source": [
    "\n",
    "cancel_order = flights_data.cancellationcode.value_counts().index\n",
    "sb.countplot(data=flights_data, x=\"cancellationcode\", order=cancel_order, color=sb.color_palette()[0])\n",
    "cancelCode_xticks = np.arange(0,4,1)\n",
    "cancelCode_xticklabels = [\"Carrier\", \"Weather\", \"NAS\", \"Security\"]\n",
    "plt.xticks(cancelCode_xticks, cancelCode_xticklabels)\n",
    "plt.xlabel(\"Cause of cancellation\")\n",
    "plt.ylabel(\"Number of flights\")"
   ]
  },
  {
   "cell_type": "markdown",
   "metadata": {},
   "source": [
    "It seems like a large number of the flights were cancelled due to carrier and weather wherase only a very few was cancelled due to security issues."
   ]
  },
  {
   "cell_type": "markdown",
   "metadata": {},
   "source": [
    "### Discuss the distribution(s) of your variable(s) of interest. Were there any unusual points? Did you need to perform any transformations?\n",
    "\n",
    "> Your answer here!\n",
    "\n",
    "### Of the features you investigated, were there any unusual distributions? Did you perform any operations on the data to tidy, adjust, or change the form of the data? If so, why did you do this?\n",
    "\n",
    "> Your answer here!"
   ]
  },
  {
   "cell_type": "markdown",
   "metadata": {},
   "source": [
    "## Bivariate Exploration\n",
    "\n",
    "> In this section, investigate relationships between pairs of variables in your\n",
    "data. Make sure the variables that you cover here have been introduced in some\n",
    "fashion in the previous section (univariate exploration)."
   ]
  },
  {
   "cell_type": "code",
   "execution_count": null,
   "metadata": {},
   "outputs": [
    {
     "name": "stderr",
     "output_type": "stream",
     "text": [
      "/Users/command/anaconda3/lib/python3.6/site-packages/numpy/lib/histograms.py:754: RuntimeWarning: invalid value encountered in greater_equal\n",
      "  keep = (tmp_a >= first_edge)\n",
      "/Users/command/anaconda3/lib/python3.6/site-packages/numpy/lib/histograms.py:755: RuntimeWarning: invalid value encountered in less_equal\n",
      "  keep &= (tmp_a <= last_edge)\n"
     ]
    }
   ],
   "source": [
    "#Plot matrix for scatter plots\n",
    "scatterplot_matrix = sb.PairGrid(data=flights_data, vars = [\"deptime\", \"arrtime\", \"crsarrtime\",\\\n",
    "                                                            \"actualelapsedtime\", \"crselapsedtime\", \"airtime\", \\\n",
    "                                                            \"arrdelay\", \"depdelay\", \"distance\"])\n",
    "scatterplot_matrix.map_diag(plt.hist)\n",
    "scatterplot_matrix.map_offdiag(plt.scatter)"
   ]
  },
  {
   "cell_type": "markdown",
   "metadata": {},
   "source": [
    "### Talk about some of the relationships you observed in this part of the investigation. How did the feature(s) of interest vary with other features in the dataset?\n",
    "\n",
    "> Your answer here!\n",
    "\n",
    "### Did you observe any interesting relationships between the other features (not the main feature(s) of interest)?\n",
    "\n",
    "> Your answer here!"
   ]
  },
  {
   "cell_type": "markdown",
   "metadata": {},
   "source": [
    "## Multivariate Exploration\n",
    "\n",
    "> Create plots of three or more variables to investigate your data even\n",
    "further. Make sure that your investigations are justified, and follow from\n",
    "your work in the previous sections."
   ]
  },
  {
   "cell_type": "code",
   "execution_count": null,
   "metadata": {},
   "outputs": [],
   "source": []
  },
  {
   "cell_type": "markdown",
   "metadata": {},
   "source": [
    "### Talk about some of the relationships you observed in this part of the investigation. Were there features that strengthened each other in terms of looking at your feature(s) of interest?\n",
    "\n",
    "> Your answer here!\n",
    "\n",
    "### Were there any interesting or surprising interactions between features?\n",
    "\n",
    "> Your answer here!"
   ]
  },
  {
   "cell_type": "markdown",
   "metadata": {},
   "source": [
    "> At the end of your report, make sure that you export the notebook as an\n",
    "html file from the `File > Download as... > HTML` menu. Make sure you keep\n",
    "track of where the exported file goes, so you can put it in the same folder\n",
    "as this notebook for project submission. Also, make sure you remove all of\n",
    "the quote-formatted guide notes like this one before you finish your report!"
   ]
  },
  {
   "cell_type": "code",
   "execution_count": null,
   "metadata": {},
   "outputs": [],
   "source": []
  }
 ],
 "metadata": {
  "kernelspec": {
   "display_name": "Python 3",
   "language": "python",
   "name": "python3"
  },
  "language_info": {
   "codemirror_mode": {
    "name": "ipython",
    "version": 3
   },
   "file_extension": ".py",
   "mimetype": "text/x-python",
   "name": "python",
   "nbconvert_exporter": "python",
   "pygments_lexer": "ipython3",
   "version": "3.6.7"
  }
 },
 "nbformat": 4,
 "nbformat_minor": 2
}
