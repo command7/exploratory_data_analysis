{
 "cells": [
  {
   "cell_type": "markdown",
   "metadata": {},
   "source": [
    "# (Dataset Exploration Title)\n",
    "## by (your name here)\n",
    "\n",
    "## Preliminary Wrangling\n",
    "\n",
    "> Briefly introduce your dataset here."
   ]
  },
  {
   "cell_type": "code",
   "execution_count": 1,
   "metadata": {},
   "outputs": [],
   "source": [
    "# import all packages and set plots to be embedded inline\n",
    "import numpy as np\n",
    "import pandas as pd\n",
    "import matplotlib.pyplot as plt\n",
    "import seaborn as sb\n",
    "\n",
    "%matplotlib inline"
   ]
  },
  {
   "cell_type": "markdown",
   "metadata": {},
   "source": [
    "> Load in your dataset and describe its properties through the questions below.\n",
    "Try and motivate your exploration goals through this section."
   ]
  },
  {
   "cell_type": "markdown",
   "metadata": {},
   "source": [
    "data_1987 = pd.read_csv(\"1987.csv\")\n",
    "data_1988 = pd.read_csv(\"1988.csv\")\n",
    "data_1989 = pd.read_csv(\"1989.csv\")\n",
    "data_1990 = pd.read_csv(\"1990.csv\")\n",
    "data_1991 = pd.read_csv(\"1991.csv\")\n",
    "data_1992 = pd.read_csv(\"1992.csv\")\n",
    "data_1993 = pd.read_csv(\"1993.csv\")\n",
    "data_1994 = pd.read_csv(\"1994.csv\")\n",
    "data_1995 = pd.read_csv(\"1995.csv\")\n",
    "data_1996 = pd.read_csv(\"1996.csv\")\n",
    "data_1997 = pd.read_csv(\"1997.csv\")\n",
    "data_1998 = pd.read_csv(\"1998.csv\")\n",
    "data_1999 = pd.read_csv(\"1999.csv\")\n",
    "data_2000 = pd.read_csv(\"2000.csv\")\n",
    "data_2001 = pd.read_csv(\"2001.csv\", encoding=\"cp1252\")\n",
    "data_2002 = pd.read_csv(\"2002.csv\", encoding=\"cp1252\")\n",
    "data_2003 = pd.read_csv(\"2003.csv\")\n",
    "data_2004 = pd.read_csv(\"2004.csv\")\n",
    "data_2005 = pd.read_csv(\"2005.csv\")\n",
    "data_2006 = pd.read_csv(\"2006.csv\")\n",
    "data_2007 = pd.read_csv(\"2007.csv\")\n",
    "data_2008 = pd.read_csv(\"2008.csv\")\n",
    "\n",
    "partial_data = [data_1988, data_1989,data_1990,data_1991,data_1992,data_1993,data_1994,\\\n",
    "                data_1995,data_1996,data_1997,data_1998,data_1999,data_2000,data_2001,data_2002,data_2003,\\\n",
    "               data_2004, data_2005, data_2006, data_2007, data_2008]  \n",
    "\n",
    "flights_data = data_1987.append(partial_data, ignore_index=True)\n",
    "\n",
    "flights_data.to_csv(\"flights_data.csv\")"
   ]
  },
  {
   "cell_type": "code",
   "execution_count": 2,
   "metadata": {},
   "outputs": [
    {
     "name": "stderr",
     "output_type": "stream",
     "text": [
      "/Users/command/anaconda3/lib/python3.6/site-packages/IPython/core/interactiveshell.py:3020: DtypeWarning: Columns (11,23) have mixed types. Specify dtype option on import or set low_memory=False.\n",
      "  interactivity=interactivity, compiler=compiler, result=result)\n"
     ]
    }
   ],
   "source": [
    "flights_data = pd.read_csv(\"flights_data.csv\")"
   ]
  },
  {
   "cell_type": "code",
   "execution_count": 3,
   "metadata": {},
   "outputs": [
    {
     "data": {
      "text/plain": [
       "(123534969, 30)"
      ]
     },
     "execution_count": 3,
     "metadata": {},
     "output_type": "execute_result"
    }
   ],
   "source": [
    "flights_data.shape"
   ]
  },
  {
   "cell_type": "code",
   "execution_count": 4,
   "metadata": {},
   "outputs": [
    {
     "name": "stdout",
     "output_type": "stream",
     "text": [
      "<class 'pandas.core.frame.DataFrame'>\n",
      "RangeIndex: 123534969 entries, 0 to 123534968\n",
      "Data columns (total 30 columns):\n",
      "Unnamed: 0           int64\n",
      "Year                 int64\n",
      "Month                int64\n",
      "DayofMonth           int64\n",
      "DayOfWeek            int64\n",
      "DepTime              float64\n",
      "CRSDepTime           int64\n",
      "ArrTime              float64\n",
      "CRSArrTime           int64\n",
      "UniqueCarrier        object\n",
      "FlightNum            int64\n",
      "TailNum              object\n",
      "ActualElapsedTime    float64\n",
      "CRSElapsedTime       float64\n",
      "AirTime              float64\n",
      "ArrDelay             float64\n",
      "DepDelay             float64\n",
      "Origin               object\n",
      "Dest                 object\n",
      "Distance             float64\n",
      "TaxiIn               float64\n",
      "TaxiOut              float64\n",
      "Cancelled            int64\n",
      "CancellationCode     object\n",
      "Diverted             int64\n",
      "CarrierDelay         float64\n",
      "WeatherDelay         float64\n",
      "NASDelay             float64\n",
      "SecurityDelay        float64\n",
      "LateAircraftDelay    float64\n",
      "dtypes: float64(15), int64(10), object(5)\n",
      "memory usage: 27.6+ GB\n"
     ]
    }
   ],
   "source": [
    "flights_data.info()"
   ]
  },
  {
   "cell_type": "markdown",
   "metadata": {},
   "source": [
    "### What is the structure of your dataset?\n",
    "\n",
    "> Your answer here!\n",
    "\n",
    "### What is/are the main feature(s) of interest in your dataset?\n",
    "\n",
    "> Your answer here!\n",
    "\n",
    "### What features in the dataset do you think will help support your investigation into your feature(s) of interest?\n",
    "\n",
    "> Your answer here!"
   ]
  },
  {
   "cell_type": "markdown",
   "metadata": {},
   "source": [
    "## Univariate Exploration\n",
    "\n",
    "> In this section, investigate distributions of individual variables. If\n",
    "you see unusual points or outliers, take a deeper look to clean things up\n",
    "and prepare yourself to look at relationships between variables."
   ]
  },
  {
   "cell_type": "code",
   "execution_count": 15,
   "metadata": {},
   "outputs": [
    {
     "data": {
      "image/png": "[encoded data removed]",
      "text/plain": [
       "<Figure size 864x432 with 2 Axes>"
      ]
     },
     "metadata": {
      "needs_background": "light"
     },
     "output_type": "display_data"
    }
   ],
   "source": [
    "plt.figure(figsize=(12,6))\n",
    "plt.subplot(1,2,1)\n",
    "sb.countplot(data=flights_data,x=\"Year\", color=sb.color_palette()[0])\n",
    "plt.xticks(rotation=90)\n",
    "plt.xlabel(\"Year\")\n",
    "plt.ylabel(\"Number of flights\")\n",
    "plt.subplot(1,2,2)\n",
    "sb.countplot(data=flights_data, x=\"Month\", color=sb.color_palette()[0])\n",
    "y_ticks = [10, 100, 1000, 10000, 100000]\n",
    "plt.yticks(y_ticks, y_ticks)\n",
    "months_labels = [\"Jan\", \"Feb\", \"Mar\", \"Apr\", \"May\", \"Jun\", \"Jul\", \"Aug\", \"Sep\", \"Oct\", \"Nov\", \"Dec\"]\n",
    "months_ticks = np.arange(0, 13, 1)\n",
    "plt.xticks(months_ticks, months_labels)\n",
    "plt.xlabel(\"Months\")\n",
    "plt.ylabel(\"Number of flights\")\n",
    "plt.yscale(\"log\")\n"
   ]
  },
  {
   "cell_type": "markdown",
   "metadata": {},
   "source": [
    "Number of flights are increasing by each year. In the year 1987, there seems to be a very small number of flights comparitively. This needs to looked into much deeper\n",
    "\n",
    "There seems to be very few flights in Februaries that needs to be looked into further. Other than There seems to be a large number of flights in December, October and August."
   ]
  },
  {
   "cell_type": "code",
   "execution_count": 31,
   "metadata": {},
   "outputs": [
    {
     "data": {
      "text/plain": [
       "<Figure size 864x504 with 0 Axes>"
      ]
     },
     "metadata": {},
     "output_type": "display_data"
    },
    {
     "data": {
      "image/png": "[encoded data removed]",
      "text/plain": [
       "<Figure size 432x288 with 2 Axes>"
      ]
     },
     "metadata": {
      "needs_background": "light"
     },
     "output_type": "display_data"
    }
   ],
   "source": [
    "plt.figure(figsize=(12,7))\n",
    "flights_data[[\"ArrDelay\", \"DepDelay\"]].hist()\n"
   ]
  },
  {
   "cell_type": "markdown",
   "metadata": {},
   "source": [
    "### Discuss the distribution(s) of your variable(s) of interest. Were there any unusual points? Did you need to perform any transformations?\n",
    "\n",
    "> Your answer here!\n",
    "\n",
    "### Of the features you investigated, were there any unusual distributions? Did you perform any operations on the data to tidy, adjust, or change the form of the data? If so, why did you do this?\n",
    "\n",
    "> Your answer here!"
   ]
  },
  {
   "cell_type": "markdown",
   "metadata": {},
   "source": [
    "## Bivariate Exploration\n",
    "\n",
    "> In this section, investigate relationships between pairs of variables in your\n",
    "data. Make sure the variables that you cover here have been introduced in some\n",
    "fashion in the previous section (univariate exploration)."
   ]
  },
  {
   "cell_type": "code",
   "execution_count": null,
   "metadata": {},
   "outputs": [],
   "source": []
  },
  {
   "cell_type": "markdown",
   "metadata": {},
   "source": [
    "### Talk about some of the relationships you observed in this part of the investigation. How did the feature(s) of interest vary with other features in the dataset?\n",
    "\n",
    "> Your answer here!\n",
    "\n",
    "### Did you observe any interesting relationships between the other features (not the main feature(s) of interest)?\n",
    "\n",
    "> Your answer here!"
   ]
  },
  {
   "cell_type": "markdown",
   "metadata": {},
   "source": [
    "## Multivariate Exploration\n",
    "\n",
    "> Create plots of three or more variables to investigate your data even\n",
    "further. Make sure that your investigations are justified, and follow from\n",
    "your work in the previous sections."
   ]
  },
  {
   "cell_type": "code",
   "execution_count": null,
   "metadata": {},
   "outputs": [],
   "source": []
  },
  {
   "cell_type": "markdown",
   "metadata": {},
   "source": [
    "### Talk about some of the relationships you observed in this part of the investigation. Were there features that strengthened each other in terms of looking at your feature(s) of interest?\n",
    "\n",
    "> Your answer here!\n",
    "\n",
    "### Were there any interesting or surprising interactions between features?\n",
    "\n",
    "> Your answer here!"
   ]
  },
  {
   "cell_type": "markdown",
   "metadata": {},
   "source": [
    "> At the end of your report, make sure that you export the notebook as an\n",
    "html file from the `File > Download as... > HTML` menu. Make sure you keep\n",
    "track of where the exported file goes, so you can put it in the same folder\n",
    "as this notebook for project submission. Also, make sure you remove all of\n",
    "the quote-formatted guide notes like this one before you finish your report!"
   ]
  },
  {
   "cell_type": "code",
   "execution_count": null,
   "metadata": {},
   "outputs": [],
   "source": []
  }
 ],
 "metadata": {
  "kernelspec": {
   "display_name": "Python 3",
   "language": "python",
   "name": "python3"
  },
  "language_info": {
   "codemirror_mode": {
    "name": "ipython",
    "version": 3
   },
   "file_extension": ".py",
   "mimetype": "text/x-python",
   "name": "python",
   "nbconvert_exporter": "python",
   "pygments_lexer": "ipython3",
   "version": "3.6.7"
  }
 },
 "nbformat": 4,
 "nbformat_minor": 2
}
